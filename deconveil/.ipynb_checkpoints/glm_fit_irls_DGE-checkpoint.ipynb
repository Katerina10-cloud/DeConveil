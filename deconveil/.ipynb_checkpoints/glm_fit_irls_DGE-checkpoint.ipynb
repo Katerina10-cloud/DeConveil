{
 "cells": [
  {
   "cell_type": "code",
   "execution_count": 2,
   "id": "000f0d4a",
   "metadata": {},
   "outputs": [],
   "source": [
    "import multiprocessing\n",
    "import warnings\n",
    "from math import floor\n",
    "from pathlib import Path\n",
    "from typing import List\n",
    "from typing import Literal\n",
    "from typing import Optional\n",
    "from typing import Tuple\n",
    "from typing import Union\n",
    "from typing import cast"
   ]
  },
  {
   "cell_type": "code",
   "execution_count": 3,
   "id": "5221fcec",
   "metadata": {},
   "outputs": [],
   "source": [
    "import numpy as np\n",
    "import pandas as pd\n",
    "from matplotlib import pyplot as plt\n",
    "from scipy.linalg import solve  # type: ignore\n",
    "from scipy.optimize import minimize  # type: ignore\n",
    "from scipy.special import gammaln  # type: ignore\n",
    "from scipy.special import polygamma  # type: ignore\n",
    "from scipy.stats import norm  # type: ignore\n",
    "from sklearn.linear_model import LinearRegression  # type: ignore"
   ]
  },
  {
   "cell_type": "code",
   "execution_count": 4,
   "id": "87627b83",
   "metadata": {},
   "outputs": [
    {
     "data": {
      "text/plain": [
       "array([5071, 5010, 1623, 1851, 1769, 2065, 1412, 1188, 1668, 1674,  949,\n",
       "       1104,  841, 1061,  852, 1108])"
      ]
     },
     "execution_count": 4,
     "metadata": {},
     "output_type": "execute_result"
    }
   ],
   "source": [
    "#generate count lung cancer data (gene ABCC3)\n",
    "counts = [5071, 5010, 1623, 1851, 1769, 2065, 1412, 1188, 1668, 1674, 949, 1104, 841, 1061, 852, 1108]\n",
    "counts = np.array(counts)\n",
    "counts "
   ]
  },
  {
   "cell_type": "code",
   "execution_count": 5,
   "id": "f8eec2c2",
   "metadata": {},
   "outputs": [
    {
     "data": {
      "text/plain": [
       "array([1.00000001, 1.00000001, 1.00000001, 1.00000001, 1.00000001,\n",
       "       1.00000001, 1.00000001, 1.00000001, 2.00000001, 2.50000001,\n",
       "       1.50000001, 2.00000001, 2.00000001, 1.50000001, 2.00000001,\n",
       "       2.00000001])"
      ]
     },
     "execution_count": 5,
     "metadata": {},
     "output_type": "execute_result"
    }
   ],
   "source": [
    "#generate CNV data\n",
    "#AAAS\n",
    "cnv = [1, 1, 1, 1, 1, 1, 1, 1, 2.0, 2.5, 1.5, 2.0, 2.0, 1.5, 2.0, 2.0]\n",
    "cnv = np.array(cnv)\n",
    "cnv = cnv + 10e-9\n",
    "#cnv = np.log(cnv)\n",
    "cnv"
   ]
  },
  {
   "cell_type": "code",
   "execution_count": 6,
   "id": "044ac5f8",
   "metadata": {},
   "outputs": [
    {
     "data": {
      "text/plain": [
       "0.25830107"
      ]
     },
     "execution_count": 6,
     "metadata": {},
     "output_type": "execute_result"
    }
   ],
   "source": [
    "#Generate dispersion data\n",
    "#dispersions = np.array([0.1989177, 1.3452317, 0.2803645, 0.2750281, 0.1786459, 0.3633964, 0.4704590, 0.3415177, 0.2745592, 0.4313849])\n",
    "dispersions = 0.25830107\n",
    "alpha = dispersions\n",
    "alpha"
   ]
  },
  {
   "cell_type": "code",
   "execution_count": 8,
   "id": "c3359173",
   "metadata": {},
   "outputs": [
    {
     "data": {
      "text/plain": [
       "array([1.16950695, 1.08637265, 1.15012341, 1.19435402, 1.08791923,\n",
       "       1.17677969, 1.16581881, 0.77746277, 1.17488973, 0.91116436,\n",
       "       0.8980075 , 1.06022032, 0.90552191, 0.9371684 , 0.78716591,\n",
       "       0.99839825])"
      ]
     },
     "execution_count": 8,
     "metadata": {},
     "output_type": "execute_result"
    }
   ],
   "source": [
    "#Generate real calculated sf data\n",
    "sf = np.array([1.16950695, 1.08637265,\n",
    "       1.15012341, 1.19435402, 1.08791923, 1.17677969, 1.16581881,\n",
    "       0.77746277, 1.17488973, 0.91116436, 0.8980075 , 1.06022032, 0.90552191,\n",
    "       0.9371684 , 0.78716591, 0.99839825])\n",
    "sf"
   ]
  },
  {
   "cell_type": "code",
   "execution_count": 171,
   "id": "f7664fb4",
   "metadata": {},
   "outputs": [],
   "source": [
    "#Make example dataset\n",
    "#np.random.seed(10)\n",
    "#n=10\n",
    "#m=10\n",
    "#betaSD=0\n",
    "#interceptMean=5\n",
    "#interceptSD=2\n",
    "#beta_int = np.random.normal(loc=interceptMean, scale=interceptSD, size=n)\n",
    "#beta_lfc = np.random.normal(loc=0, scale=betaSD, size=n)\n",
    "#beta = np.c_[beta_int, beta_lfc]\n",
    "#beta = beta.T\n",
    "#beta"
   ]
  },
  {
   "cell_type": "code",
   "execution_count": 75,
   "id": "a6e54bf6",
   "metadata": {},
   "outputs": [],
   "source": [
    "#def dispMeanRel(x): \n",
    "    #5/x + 0.1\n",
    "#dispersion = dispMeanRel(2 ** beta[0])\n",
    "#dispersion "
   ]
  },
  {
   "cell_type": "code",
   "execution_count": 21,
   "id": "2e52d500",
   "metadata": {},
   "outputs": [],
   "source": [
    "#upload sinthetic data \n",
    "#counts = pd.read_csv('test_counts.csv', index_col = 'Unnamed: 0')"
   ]
  },
  {
   "cell_type": "code",
   "execution_count": 22,
   "id": "1c2a2937",
   "metadata": {},
   "outputs": [],
   "source": [
    "#counts = counts.iloc[0:10, 0:10]\n",
    "#print(counts)"
   ]
  },
  {
   "cell_type": "code",
   "execution_count": 3,
   "id": "4d2aadfe",
   "metadata": {},
   "outputs": [],
   "source": [
    "#Generate size factor data\n",
    "#n_samples = 10\n",
    "#n = np.linspace(start = 0, stop = 15, num = n_samples)\n",
    "#sf = np.exp(np.random.normal(size = len(n), loc = 1.3, scale = 0.5)) #size factor\n",
    "#sf"
   ]
  },
  {
   "cell_type": "code",
   "execution_count": 73,
   "id": "6e2fe843",
   "metadata": {},
   "outputs": [],
   "source": [
    "#counts = np.random.negative_binomial()"
   ]
  },
  {
   "cell_type": "code",
   "execution_count": 15,
   "id": "0cd5cc1e",
   "metadata": {},
   "outputs": [
    {
     "data": {
      "text/plain": [
       "array([1, 1, 1, 1, 1, 1, 1, 1, 0, 0, 0, 0, 0, 0, 0, 0])"
      ]
     },
     "execution_count": 15,
     "metadata": {},
     "output_type": "execute_result"
    }
   ],
   "source": [
    "#upload sinthetic data \n",
    "#counts = pd.read_csv('test_counts.csv', index_col = 'Unnamed: 0')\n",
    "#print(counts.head())\n",
    "\n",
    "#metadata = pd.read_csv('test_metadata.csv', index_col = 'Unnamed: 0')\n",
    "#print(metadata)\n",
    "\n",
    "X = np.array([1, 0])\n",
    "X = np.repeat(X, [8, 8], axis=0)\n",
    "X"
   ]
  },
  {
   "cell_type": "code",
   "execution_count": 13,
   "id": "9353f02e",
   "metadata": {},
   "outputs": [],
   "source": [
    "#X = {'intercept': [1, 1, 1, 1, 1, 1, 1, 1, 1, 1, 1, 1, 1, 1, 1, 1], \n",
    "     #'condition': [1, 1, 1, 1, 1, 1, 1, 1, 1, 1, 0, 0, 0, 0, 0, 0, 0, 0, 0, 0]}\n",
    "\n",
    "#X = pd.DataFrame(data=X, index = ['s1_tumor', 's2_tumor', 's3_tumor', 's4_tumor', 's5_tumor', 's6_tumor', 's7_tumor', 's8_tumor', 's1_normal', 's2_normal',\n",
    "                            #'s3_normal', 's4_normal', 's5_normal', 's6_normal', 's7_normal', 's8_normal'])\n",
    "#X"
   ]
  },
  {
   "cell_type": "code",
   "execution_count": 8,
   "id": "b5eebc11",
   "metadata": {},
   "outputs": [],
   "source": [
    "#X = pd.DataFrame(X, index = ['sample1', 'sample2', 'sample3', 'sample4', 'sample5', 'sample6', 'sample7', 'sample8', 'sample9', 'sample10',\n",
    "                            #'sample11', 'sample12', 'sample13', 'sample14', 'sample15', 'sample16', 'sample17', 'sample18', 'sample19', 'sample20'])\n",
    "#X = X.rename(columns={0: 'condition'})"
   ]
  },
  {
   "cell_type": "code",
   "execution_count": 14,
   "id": "17b35845",
   "metadata": {},
   "outputs": [
    {
     "ename": "AttributeError",
     "evalue": "'numpy.ndarray' object has no attribute 'insert'",
     "output_type": "error",
     "traceback": [
      "\u001b[1;31m---------------------------------------------------------------------------\u001b[0m",
      "\u001b[1;31mAttributeError\u001b[0m                            Traceback (most recent call last)",
      "\u001b[1;32m~\\AppData\\Local\\Temp\\ipykernel_26308\\4228452626.py\u001b[0m in \u001b[0;36m<module>\u001b[1;34m\u001b[0m\n\u001b[1;32m----> 1\u001b[1;33m \u001b[0mX\u001b[0m\u001b[1;33m.\u001b[0m\u001b[0minsert\u001b[0m\u001b[1;33m(\u001b[0m\u001b[1;36m0\u001b[0m\u001b[1;33m,\u001b[0m \u001b[1;34m\"intercept\"\u001b[0m\u001b[1;33m,\u001b[0m \u001b[1;36m1\u001b[0m\u001b[1;33m)\u001b[0m\u001b[1;33m\u001b[0m\u001b[1;33m\u001b[0m\u001b[0m\n\u001b[0m",
      "\u001b[1;31mAttributeError\u001b[0m: 'numpy.ndarray' object has no attribute 'insert'"
     ]
    }
   ],
   "source": [
    "#X.insert(0, \"intercept\", 1)"
   ]
  },
  {
   "cell_type": "code",
   "execution_count": 224,
   "id": "f1be6e4a",
   "metadata": {},
   "outputs": [],
   "source": [
    "#design_matrix = pd.DataFrame(index=metadata.index)\n",
    "#design_matrix[\"condition\"] = np.where(design_matrix[\"condition\"] == \"A\", 0, 1)\n",
    "#X.iloc[:,1] "
   ]
  },
  {
   "cell_type": "code",
   "execution_count": 10,
   "id": "fce94b65",
   "metadata": {},
   "outputs": [
    {
     "data": {
      "text/html": [
       "<div>\n",
       "<style scoped>\n",
       "    .dataframe tbody tr th:only-of-type {\n",
       "        vertical-align: middle;\n",
       "    }\n",
       "\n",
       "    .dataframe tbody tr th {\n",
       "        vertical-align: top;\n",
       "    }\n",
       "\n",
       "    .dataframe thead th {\n",
       "        text-align: right;\n",
       "    }\n",
       "</style>\n",
       "<table border=\"1\" class=\"dataframe\">\n",
       "  <thead>\n",
       "    <tr style=\"text-align: right;\">\n",
       "      <th></th>\n",
       "      <th>intercept</th>\n",
       "      <th>condition</th>\n",
       "    </tr>\n",
       "  </thead>\n",
       "  <tbody>\n",
       "    <tr>\n",
       "      <th>sample1</th>\n",
       "      <td>1</td>\n",
       "      <td>1</td>\n",
       "    </tr>\n",
       "    <tr>\n",
       "      <th>sample2</th>\n",
       "      <td>1</td>\n",
       "      <td>1</td>\n",
       "    </tr>\n",
       "    <tr>\n",
       "      <th>sample3</th>\n",
       "      <td>1</td>\n",
       "      <td>1</td>\n",
       "    </tr>\n",
       "    <tr>\n",
       "      <th>sample4</th>\n",
       "      <td>1</td>\n",
       "      <td>1</td>\n",
       "    </tr>\n",
       "    <tr>\n",
       "      <th>sample5</th>\n",
       "      <td>1</td>\n",
       "      <td>1</td>\n",
       "    </tr>\n",
       "    <tr>\n",
       "      <th>sample6</th>\n",
       "      <td>1</td>\n",
       "      <td>1</td>\n",
       "    </tr>\n",
       "    <tr>\n",
       "      <th>sample7</th>\n",
       "      <td>1</td>\n",
       "      <td>1</td>\n",
       "    </tr>\n",
       "    <tr>\n",
       "      <th>sample8</th>\n",
       "      <td>1</td>\n",
       "      <td>1</td>\n",
       "    </tr>\n",
       "    <tr>\n",
       "      <th>sample9</th>\n",
       "      <td>1</td>\n",
       "      <td>1</td>\n",
       "    </tr>\n",
       "    <tr>\n",
       "      <th>sample10</th>\n",
       "      <td>1</td>\n",
       "      <td>1</td>\n",
       "    </tr>\n",
       "    <tr>\n",
       "      <th>sample11</th>\n",
       "      <td>1</td>\n",
       "      <td>0</td>\n",
       "    </tr>\n",
       "    <tr>\n",
       "      <th>sample12</th>\n",
       "      <td>1</td>\n",
       "      <td>0</td>\n",
       "    </tr>\n",
       "    <tr>\n",
       "      <th>sample13</th>\n",
       "      <td>1</td>\n",
       "      <td>0</td>\n",
       "    </tr>\n",
       "    <tr>\n",
       "      <th>sample14</th>\n",
       "      <td>1</td>\n",
       "      <td>0</td>\n",
       "    </tr>\n",
       "    <tr>\n",
       "      <th>sample15</th>\n",
       "      <td>1</td>\n",
       "      <td>0</td>\n",
       "    </tr>\n",
       "    <tr>\n",
       "      <th>sample16</th>\n",
       "      <td>1</td>\n",
       "      <td>0</td>\n",
       "    </tr>\n",
       "    <tr>\n",
       "      <th>sample17</th>\n",
       "      <td>1</td>\n",
       "      <td>0</td>\n",
       "    </tr>\n",
       "    <tr>\n",
       "      <th>sample18</th>\n",
       "      <td>1</td>\n",
       "      <td>0</td>\n",
       "    </tr>\n",
       "    <tr>\n",
       "      <th>sample19</th>\n",
       "      <td>1</td>\n",
       "      <td>0</td>\n",
       "    </tr>\n",
       "    <tr>\n",
       "      <th>sample20</th>\n",
       "      <td>1</td>\n",
       "      <td>0</td>\n",
       "    </tr>\n",
       "  </tbody>\n",
       "</table>\n",
       "</div>"
      ],
      "text/plain": [
       "          intercept  condition\n",
       "sample1           1          1\n",
       "sample2           1          1\n",
       "sample3           1          1\n",
       "sample4           1          1\n",
       "sample5           1          1\n",
       "sample6           1          1\n",
       "sample7           1          1\n",
       "sample8           1          1\n",
       "sample9           1          1\n",
       "sample10          1          1\n",
       "sample11          1          0\n",
       "sample12          1          0\n",
       "sample13          1          0\n",
       "sample14          1          0\n",
       "sample15          1          0\n",
       "sample16          1          0\n",
       "sample17          1          0\n",
       "sample18          1          0\n",
       "sample19          1          0\n",
       "sample20          1          0"
      ]
     },
     "execution_count": 10,
     "metadata": {},
     "output_type": "execute_result"
    }
   ],
   "source": [
    "X"
   ]
  },
  {
   "cell_type": "code",
   "execution_count": 32,
   "id": "3c0fc2c8",
   "metadata": {},
   "outputs": [],
   "source": [
    "import anndata as ad\n",
    "from scipy.sparse import csr_matrix"
   ]
  },
  {
   "cell_type": "code",
   "execution_count": 33,
   "id": "476d2284",
   "metadata": {},
   "outputs": [
    {
     "data": {
      "text/plain": [
       "AnnData object with n_obs × n_vars = 10 × 10"
      ]
     },
     "execution_count": 33,
     "metadata": {},
     "output_type": "execute_result"
    }
   ],
   "source": [
    "#Creating AnnData object\n",
    "adata = ad.AnnData(counts)\n",
    "adata"
   ]
  },
  {
   "cell_type": "code",
   "execution_count": 41,
   "id": "b725a63a",
   "metadata": {},
   "outputs": [
    {
     "name": "stdout",
     "output_type": "stream",
     "text": [
      "Index(['sample0', 'sample1', 'sample2', 'sample3', 'sample4', 'sample5',\n",
      "       'sample6', 'sample7', 'sample8', 'sample9'],\n",
      "      dtype='object')\n"
     ]
    }
   ],
   "source": [
    "adata.obs_names = [f\"sample{i:d}\" for i in range(adata.n_obs)]\n",
    "adata.var_names = [f\"gene{i:d}\" for i in range(adata.n_vars)]\n",
    "print(adata.obs_names[:10])"
   ]
  },
  {
   "cell_type": "code",
   "execution_count": 42,
   "id": "089380c1",
   "metadata": {},
   "outputs": [
    {
     "name": "stdout",
     "output_type": "stream",
     "text": [
      "Index(['gene0', 'gene1', 'gene2', 'gene3', 'gene4', 'gene5', 'gene6', 'gene7',\n",
      "       'gene8', 'gene9'],\n",
      "      dtype='object')\n"
     ]
    }
   ],
   "source": [
    "print(adata.var_names[:10])"
   ]
  },
  {
   "cell_type": "code",
   "execution_count": 21,
   "id": "829ffe55",
   "metadata": {},
   "outputs": [],
   "source": [
    "#def qr_decomp(counts,X,sf):\n",
    "    \n",
    "    #for row in (counts[0 : 9]):\n",
    "        #Q, R = np.linalg.qr(X)\n",
    "        #y = np.transpose(np.log(counts[0 : 9] / sf + 0.1))\n",
    "        #beta_init = solve(R, Q.T @ y)\n",
    "        #return beta_init"
   ]
  },
  {
   "cell_type": "code",
   "execution_count": 261,
   "id": "4822edfc",
   "metadata": {},
   "outputs": [],
   "source": [
    "X['intercept'] = np.log(X['intercept'])"
   ]
  },
  {
   "cell_type": "code",
   "execution_count": 25,
   "id": "99a609ee",
   "metadata": {},
   "outputs": [
    {
     "data": {
      "text/plain": [
       "(array([[-0.2236068, -0.2236068],\n",
       "        [-0.2236068, -0.2236068],\n",
       "        [-0.2236068, -0.2236068],\n",
       "        [-0.2236068, -0.2236068],\n",
       "        [-0.2236068, -0.2236068],\n",
       "        [-0.2236068, -0.2236068],\n",
       "        [-0.2236068, -0.2236068],\n",
       "        [-0.2236068, -0.2236068],\n",
       "        [-0.2236068, -0.2236068],\n",
       "        [-0.2236068, -0.2236068],\n",
       "        [-0.2236068,  0.2236068],\n",
       "        [-0.2236068,  0.2236068],\n",
       "        [-0.2236068,  0.2236068],\n",
       "        [-0.2236068,  0.2236068],\n",
       "        [-0.2236068,  0.2236068],\n",
       "        [-0.2236068,  0.2236068],\n",
       "        [-0.2236068,  0.2236068],\n",
       "        [-0.2236068,  0.2236068],\n",
       "        [-0.2236068,  0.2236068],\n",
       "        [-0.2236068,  0.2236068]]),\n",
       " array([[-4.47213595, -2.23606798],\n",
       "        [ 0.        , -2.23606798]]))"
      ]
     },
     "execution_count": 25,
     "metadata": {},
     "output_type": "execute_result"
    }
   ],
   "source": [
    "Q, R = np.linalg.qr(X)\n",
    "Q, R"
   ]
  },
  {
   "cell_type": "code",
   "execution_count": 27,
   "id": "c2938d8e",
   "metadata": {},
   "outputs": [
    {
     "data": {
      "text/plain": [
       "array([ 8.8131413 ,  8.88040789,  8.03728386,  9.23938975, 10.27539909,\n",
       "        9.10105695,  8.9102303 ,  8.14340336,  8.82604742,  9.23938975,\n",
       "        8.22982135,  8.225764  ,  8.07277535,  8.92390266,  8.50227285,\n",
       "        7.28178759,  7.53993657,  7.88280331,  9.40124804,  8.92390266])"
      ]
     },
     "execution_count": 27,
     "metadata": {},
     "output_type": "execute_result"
    }
   ],
   "source": [
    "y = np.log(counts_cnv / sf + 0.1)\n",
    "y"
   ]
  },
  {
   "cell_type": "code",
   "execution_count": null,
   "id": "3be89ef5",
   "metadata": {},
   "outputs": [],
   "source": []
  },
  {
   "cell_type": "code",
   "execution_count": 327,
   "id": "fcb7acdd",
   "metadata": {},
   "outputs": [
    {
     "data": {
      "text/plain": [
       "array([7.23519597, 1.71137899])"
      ]
     },
     "execution_count": 327,
     "metadata": {},
     "output_type": "execute_result"
    }
   ],
   "source": [
    "#without CNV\n",
    "beta_init = solve(R, Q.T @ y)\n",
    "beta_init"
   ]
  },
  {
   "cell_type": "code",
   "execution_count": 28,
   "id": "0b483783",
   "metadata": {},
   "outputs": [
    {
     "data": {
      "text/plain": [
       "array([8.29842144, 0.64815353])"
      ]
     },
     "execution_count": 28,
     "metadata": {},
     "output_type": "execute_result"
    }
   ],
   "source": [
    "#with CNV\n",
    "beta_init = solve(R, Q.T @ y)\n",
    "beta_init"
   ]
  },
  {
   "cell_type": "code",
   "execution_count": 328,
   "id": "80568e7d",
   "metadata": {},
   "outputs": [
    {
     "data": {
      "text/plain": [
       "sample1     9.247168\n",
       "sample2     9.360035\n",
       "sample3     9.124600\n",
       "sample4     8.907586\n",
       "sample5     8.920240\n",
       "sample6     9.160770\n",
       "sample7     9.018040\n",
       "sample8     9.535505\n",
       "sample9     8.858636\n",
       "sample10    8.907586\n",
       "sample11    7.308906\n",
       "sample12    7.522644\n",
       "sample13    7.011776\n",
       "sample14    7.050042\n",
       "sample15    6.803850\n",
       "sample16    6.947410\n",
       "sample17    7.162112\n",
       "sample18    7.088301\n",
       "sample19    6.765376\n",
       "sample20    7.050042\n",
       "dtype: float64"
      ]
     },
     "execution_count": 328,
     "metadata": {},
     "output_type": "execute_result"
    }
   ],
   "source": [
    "beta = beta_init\n",
    "min_mu = 0.5\n",
    "mu = np.maximum(sf * np.exp(X @ beta), min_mu)\n",
    "mu = np.log(mu)\n",
    "mu"
   ]
  },
  {
   "cell_type": "code",
   "execution_count": 31,
   "id": "a65ce323",
   "metadata": {},
   "outputs": [
    {
     "data": {
      "text/plain": [
       "sample1     2.883728\n",
       "sample2     2.883800\n",
       "sample3     2.883626\n",
       "sample4     2.883429\n",
       "sample5     2.883437\n",
       "sample6     2.879452\n",
       "sample7     2.880382\n",
       "sample8     2.877745\n",
       "sample9     2.877967\n",
       "sample10    2.876099\n",
       "dtype: float64"
      ]
     },
     "execution_count": 31,
     "metadata": {},
     "output_type": "execute_result"
    }
   ],
   "source": [
    "W = mu / (1.0 + mu * alpha)\n",
    "W"
   ]
  },
  {
   "cell_type": "code",
   "execution_count": 32,
   "id": "94cdc00b",
   "metadata": {},
   "outputs": [
    {
     "data": {
      "text/plain": [
       "sample1      8.870550\n",
       "sample2      8.791823\n",
       "sample3      8.982757\n",
       "sample4      9.197061\n",
       "sample5      9.189079\n",
       "sample6     11.833791\n",
       "sample7     10.815763\n",
       "sample8     13.703927\n",
       "sample9     13.461565\n",
       "sample10    15.510255\n",
       "dtype: float64"
      ]
     },
     "execution_count": 32,
     "metadata": {},
     "output_type": "execute_result"
    }
   ],
   "source": [
    "z = np.log(mu / sf) + (counts[0] - mu) / mu\n",
    "z"
   ]
  },
  {
   "cell_type": "code",
   "execution_count": 33,
   "id": "d8bab87a",
   "metadata": {},
   "outputs": [
    {
     "data": {
      "text/html": [
       "<div>\n",
       "<style scoped>\n",
       "    .dataframe tbody tr th:only-of-type {\n",
       "        vertical-align: middle;\n",
       "    }\n",
       "\n",
       "    .dataframe tbody tr th {\n",
       "        vertical-align: top;\n",
       "    }\n",
       "\n",
       "    .dataframe thead th {\n",
       "        text-align: right;\n",
       "    }\n",
       "</style>\n",
       "<table border=\"1\" class=\"dataframe\">\n",
       "  <thead>\n",
       "    <tr style=\"text-align: right;\">\n",
       "      <th></th>\n",
       "      <th>intercept</th>\n",
       "      <th>condition</th>\n",
       "    </tr>\n",
       "  </thead>\n",
       "  <tbody>\n",
       "    <tr>\n",
       "      <th>intercept</th>\n",
       "      <td>28.809665</td>\n",
       "      <td>14.41802</td>\n",
       "    </tr>\n",
       "    <tr>\n",
       "      <th>condition</th>\n",
       "      <td>14.418020</td>\n",
       "      <td>14.41802</td>\n",
       "    </tr>\n",
       "  </tbody>\n",
       "</table>\n",
       "</div>"
      ],
      "text/plain": [
       "           intercept  condition\n",
       "intercept  28.809665   14.41802\n",
       "condition  14.418020   14.41802"
      ]
     },
     "execution_count": 33,
     "metadata": {},
     "output_type": "execute_result"
    }
   ],
   "source": [
    "#Hessian matrix calculation for one gene\n",
    "H = (X.T * W) @ X \n",
    "H"
   ]
  },
  {
   "cell_type": "code",
   "execution_count": 34,
   "id": "75cef8bb",
   "metadata": {},
   "outputs": [
    {
     "data": {
      "text/plain": [
       "array([[ 0.06948476, -0.06948476],\n",
       "       [-0.06948476,  0.13884241]])"
      ]
     },
     "execution_count": 34,
     "metadata": {},
     "output_type": "execute_result"
    }
   ],
   "source": [
    "FI_matrix = np.linalg.inv(H)\n",
    "FI_matrix"
   ]
  },
  {
   "cell_type": "code",
   "execution_count": 35,
   "id": "6f7710bb",
   "metadata": {},
   "outputs": [
    {
     "data": {
      "text/plain": [
       "array([13.06422852, -4.0579832 ])"
      ]
     },
     "execution_count": 35,
     "metadata": {},
     "output_type": "execute_result"
    }
   ],
   "source": [
    "#beta calculation for one gene\n",
    "beta_hat = solve(H, X.T @ (W * z), assume_a=\"pos\")\n",
    "beta_hat"
   ]
  },
  {
   "cell_type": "code",
   "execution_count": 343,
   "id": "31e53533",
   "metadata": {},
   "outputs": [
    {
     "data": {
      "text/plain": [
       "array([9.99999989e-09, 9.99999989e-09, 9.99999989e-09, 9.99999989e-09,\n",
       "       9.99999989e-09, 9.99999989e-09, 9.99999989e-09, 9.99999989e-09,\n",
       "       9.99999989e-09, 9.99999989e-09, 1.09861229e+00, 6.93147186e-01,\n",
       "       6.93147186e-01, 1.38629436e+00, 1.38629436e+00, 6.93147186e-01,\n",
       "       1.09861229e+00, 1.09861229e+00, 1.09861229e+00, 1.38629436e+00])"
      ]
     },
     "execution_count": 343,
     "metadata": {},
     "output_type": "execute_result"
    }
   ],
   "source": [
    "#generate CNV data\n",
    "cnv = [1,1,1,1,1,1,1,1,1,1,3,2,2,4,4,2,3,3,3,4]\n",
    "cnv = np.array(cnv)\n",
    "cnv = cnv + 10e-9\n",
    "cnv = np.log(cnv)\n",
    "cnv"
   ]
  },
  {
   "cell_type": "code",
   "execution_count": 11,
   "id": "89960797",
   "metadata": {},
   "outputs": [],
   "source": [
    "#Negative log-likelihood of a negative binomial of parameters ``mu`` and ``alpha``\n",
    "\n",
    "def nb_nll(  \n",
    "    counts: np.ndarray, mu: np.ndarray, alpha: Union[float, np.ndarray]\n",
    ") -> Union[float, np.ndarray]:\n",
    "    \n",
    "    n = len(counts)\n",
    "    alpha_neg1 = 1 / alpha\n",
    "    logbinom = gammaln(counts + alpha_neg1) - gammaln(counts + 1) - gammaln(alpha_neg1)\n",
    "    if hasattr(alpha, \"__len__\") and len(alpha) > 1:\n",
    "        return (\n",
    "            alpha_neg1 * np.log(alpha)\n",
    "            - logbinom\n",
    "            + (counts + alpha_neg1) * np.log(mu + alpha_neg1)\n",
    "            - (counts * np.log(mu))\n",
    "        ).sum(0)\n",
    "    else:\n",
    "        return (\n",
    "            n * alpha_neg1 * np.log(alpha)\n",
    "            + (\n",
    "                -logbinom\n",
    "                + (counts + alpha_neg1) * np.log(alpha_neg1 + mu)\n",
    "                - counts * np.log(mu)\n",
    "            ).sum()\n",
    "        )"
   ]
  },
  {
   "cell_type": "code",
   "execution_count": 12,
   "id": "259793f5",
   "metadata": {},
   "outputs": [],
   "source": [
    "def vec_nb_nll(counts: np.ndarray, mu: np.ndarray, alpha: np.ndarray) -> np.ndarray:\n",
    "    n = len(counts)\n",
    "    alpha_neg1 = 1 / alpha\n",
    "    logbinom = (\n",
    "        gammaln(counts[:, None] + alpha_neg1)\n",
    "        - gammaln(counts + 1)[:, None]\n",
    "        - gammaln(alpha_neg1)\n",
    "    )\n",
    "    \n",
    "    if len(mu.shape) == 1:\n",
    "        return n * alpha_neg1 * np.log(alpha) + (\n",
    "            -logbinom\n",
    "            + (counts[:, None] + alpha_neg1) * np.log(mu[:, None] + alpha_neg1)\n",
    "            - (counts * np.log(mu))[:, None]\n",
    "        ).sum(0)\n",
    "    else:\n",
    "        return n * alpha_neg1 * np.log(alpha) + (\n",
    "            -logbinom\n",
    "            + (counts[:, None] + alpha_neg1) * np.log(mu + alpha_neg1)\n",
    "            - (counts[:, None] * np.log(mu))\n",
    "        ).sum(0)"
   ]
  },
  {
   "cell_type": "code",
   "execution_count": 13,
   "id": "8e61668a",
   "metadata": {},
   "outputs": [],
   "source": [
    "#Find best LFC parameter\n",
    "\n",
    "def grid_fit_beta(\n",
    "    counts_2: np.ndarray,\n",
    "    size_factors: np.ndarray,\n",
    "    X: np.ndarray,\n",
    "    alpha: float,\n",
    "    min_mu: float = 0.5,\n",
    "    grid_length: int = 60,\n",
    "    min_beta: float = -30,\n",
    "    max_beta: float = 30,\n",
    ") -> np.ndarray:\n",
    "    x_grid = np.linspace(min_beta, max_beta, grid_length)\n",
    "    y_grid = np.linspace(min_beta, max_beta, grid_length)\n",
    "    ll_grid = np.zeros((grid_length, grid_length))\n",
    "    \n",
    "    def loss(beta: np.ndarray) -> np.ndarray:\n",
    "        # closure to minimize\n",
    "        mu = np.maximum(size_factors[:, None] * np.exp(design_matrix @ beta.T), min_mu)\n",
    "        return vec_nb_nll(counts, mu, disp) + 0.5 * (1e-6 * beta**2).sum(1)\n",
    "    for i, x in enumerate(x_grid):\n",
    "        ll_grid[i, :] = loss(np.array([[x, y] for y in y_grid]))\n",
    "    \n",
    "    min_idxs = np.unravel_index(np.argmin(ll_grid, axis=None), ll_grid.shape)\n",
    "    delta = x_grid[1] - x_grid[0]\n",
    "    \n",
    "    fine_x_grid = np.linspace(\n",
    "        x_grid[min_idxs[0]] - delta, x_grid[min_idxs[0]] + delta, grid_length\n",
    "    )\n",
    "    \n",
    "    fine_y_grid = np.linspace(\n",
    "        y_grid[min_idxs[1]] - delta,\n",
    "        y_grid[min_idxs[1]] + delta,\n",
    "        grid_length,\n",
    "    )\n",
    "    \n",
    "    for i, x in enumerate(fine_x_grid):\n",
    "        ll_grid[i, :] = loss(np.array([[x, y] for y in fine_y_grid]))\n",
    "        \n",
    "    min_idxs = np.unravel_index(np.argmin(ll_grid, axis=None), ll_grid.shape)\n",
    "    beta = np.array([fine_x_grid[min_idxs[0]], fine_y_grid[min_idxs[1]]])\n",
    "    return beta"
   ]
  },
  {
   "cell_type": "code",
   "execution_count": null,
   "id": "e19bec46",
   "metadata": {},
   "outputs": [],
   "source": []
  },
  {
   "cell_type": "code",
   "execution_count": 14,
   "id": "e9ecba89",
   "metadata": {},
   "outputs": [],
   "source": [
    "#compute beta_MLE via Iteratively reweighted least squares\n",
    "\n",
    "def irls(\n",
    "    counts: np.ndarray,  #for a gene\n",
    "    sf: np.ndarray,\n",
    "    X: np.ndarray,\n",
    "    alpha: float,  #dispersion\n",
    "    cnv: np.ndarray,  #for a gene\n",
    "    min_mu: float = 0.5, #Lower bound on estimated means, to ensure numerical stability.\n",
    "    beta_tol: float = 1e-8, #stopping criterion\n",
    "    #min_beta: float = -30,\n",
    "    #max_beta: float = 30,\n",
    "    #optimizer: Literal[\"BFGS\", \"L-BFGS-B\"] = \"L-BFGS-B\", #Optimizing method to use in case IRLS starts diverging\n",
    "    maxiter: int = 1000, #Maximum number of IRLS iterations to perform before switching to L-BFGS-B\n",
    "    verbose = True\n",
    ") -> Tuple[np.ndarray, np.ndarray, np.ndarray, bool]:\n",
    "    \n",
    "    #assert optimizer in [\"BFGS\", \"L-BFGS-B\"]\n",
    "    \n",
    "    num_vars = X.shape[1]\n",
    "    \n",
    "    cnv = cnv + 10e-9\n",
    "    counts = counts * cnv\n",
    "    \n",
    "    \n",
    "    # if full rank, estimate initial betas for IRLS below\n",
    "    if np.linalg.matrix_rank(X) == num_vars:\n",
    "        Q, R = np.linalg.qr(X)\n",
    "        y = np.log(counts / sf + 0.1)\n",
    "        beta_init = solve(R, Q.T @ y)\n",
    "        beta = beta_init\n",
    "    else:  # Initialise intercept with log base mean\n",
    "        beta = np.zeros(num_vars)\n",
    "        beta[0] = np.log(counts / sf).mean()\n",
    "        \n",
    "    \n",
    "    dev = 1000.0 #for vector input\n",
    "    dev_ratio = 1.0 #for vector input\n",
    "    \n",
    "    ridge_factor = np.diag(np.repeat(1e-6, num_vars))\n",
    "    mu = np.maximum(sf * np.exp(X @ beta), min_mu)\n",
    "    \n",
    "    \n",
    "    converged = True\n",
    "    it = 0\n",
    "    \n",
    "    #mu = np.array(mu.T)\n",
    "    \n",
    "    #run this update step multiple times until convergence\n",
    "    #while np.sum(dev_ratio > beta_tol) == len(dev_ratio)\n",
    "    \n",
    "    while dev_ratio > beta_tol:\n",
    "        W = mu / (1.0 + mu * alpha)\n",
    "        #w = np.diag(W)\n",
    "        z = np.log(mu / sf) + (counts - mu) / mu\n",
    "        H = (X.T * W) @ X + ridge_factor\n",
    "        beta_hat = solve(H, X.T @ (W * z), assume_a=\"pos\")\n",
    "        it += 1\n",
    "        \n",
    "        beta = beta_hat\n",
    "        mu = np.maximum(sf * np.exp(X @ beta), min_mu)\n",
    "        \n",
    "        # Compute deviation : criterion for convergence\n",
    "        old_dev = dev\n",
    "        dev = -2 * nb_nll(counts, mu, alpha)\n",
    "        dev_ratio = np.abs(dev - old_dev) / (np.abs(dev) + 0.1)\n",
    "        #print(\"iteration\",it,\"Deviance Old\",old_dev,\"Deviance\", dev,\"\\n\")\n",
    "    \n",
    "    mu = np.log(sf * np.exp(X @ beta))\n",
    "     \n",
    "    print(\"Beta parameters:\", beta), print(\"Estimated mean:\", np.array(mu)), print(\"Convergence:\", converged)\n",
    "    \n",
    "    return beta, mu, converged"
   ]
  },
  {
   "cell_type": "code",
   "execution_count": 16,
   "id": "120e8814",
   "metadata": {},
   "outputs": [
    {
     "data": {
      "text/plain": [
       "array([1, 1, 1, 1, 1, 1, 1, 1, 1, 1, 3, 2, 2, 4, 4, 2, 3, 3, 3, 4])"
      ]
     },
     "execution_count": 16,
     "metadata": {},
     "output_type": "execute_result"
    }
   ],
   "source": []
  },
  {
   "cell_type": "code",
   "execution_count": null,
   "id": "e7b5a46e",
   "metadata": {},
   "outputs": [],
   "source": [
    "# Returns: beta: ndarray\n",
    "#fitted (basemean, lfc) coefficients of negative binomial GLM.\n",
    "#mu: ndarray\n",
    "#means estimated from size factors and beta"
   ]
  },
  {
   "cell_type": "code",
   "execution_count": 23,
   "id": "ebe63c1c",
   "metadata": {},
   "outputs": [
    {
     "name": "stdout",
     "output_type": "stream",
     "text": [
      "iteration 1 Deviance Old 1000.0 Deviance -359.5636189211986 \n",
      "\n",
      "iteration 2 Deviance Old -359.5636189211986 Deviance -359.5489822738613 \n",
      "\n",
      "iteration 3 Deviance Old -359.5489822738613 Deviance -359.54898103930867 \n",
      "\n",
      "Beta parameters: [7.37637672 1.76380765]\n",
      "Estimated mean: [9.44077728 9.55364436 9.31820979 9.10119538 9.11384983 9.35437936\n",
      " 9.21164922 9.72911465 9.05224587 9.10119538 7.45008683 7.66382466\n",
      " 7.15295638 7.19122283 6.94503026 7.08859091 7.30329277 7.22948145\n",
      " 6.90655675 7.19122283]\n",
      "Convergence: True\n"
     ]
    },
    {
     "data": {
      "text/plain": [
       "(array([7.37637672, 1.76380765]),\n",
       " sample1     9.440777\n",
       " sample2     9.553644\n",
       " sample3     9.318210\n",
       " sample4     9.101195\n",
       " sample5     9.113850\n",
       " sample6     9.354379\n",
       " sample7     9.211649\n",
       " sample8     9.729115\n",
       " sample9     9.052246\n",
       " sample10    9.101195\n",
       " sample11    7.450087\n",
       " sample12    7.663825\n",
       " sample13    7.152956\n",
       " sample14    7.191223\n",
       " sample15    6.945030\n",
       " sample16    7.088591\n",
       " sample17    7.303293\n",
       " sample18    7.229481\n",
       " sample19    6.906557\n",
       " sample20    7.191223\n",
       " dtype: float64,\n",
       " True)"
      ]
     },
     "execution_count": 23,
     "metadata": {},
     "output_type": "execute_result"
    }
   ],
   "source": [
    "#model fit for one gene (lung cancer ABCC3) without CNV correction (DeSeq2)\n",
    "irls(counts, sf, X, alpha)"
   ]
  },
  {
   "cell_type": "code",
   "execution_count": 15,
   "id": "151d9194",
   "metadata": {},
   "outputs": [
    {
     "name": "stdout",
     "output_type": "stream",
     "text": [
      "Beta parameters: [8.491359   0.64882713]\n",
      "Estimated mean: [9.44077905 9.55364613 9.31821156 9.10119714 9.1138516  9.35438112\n",
      " 9.21165099 9.72911642 9.05224763 9.10119714 8.56506912 8.77880695\n",
      " 8.26793866 8.30620512 8.06001254 8.20357319 8.41827506 8.34446374\n",
      " 8.02153904 8.30620512]\n",
      "Convergence: True\n"
     ]
    },
    {
     "data": {
      "text/plain": [
       "(array([8.491359  , 0.64882713]),\n",
       " sample1     9.440779\n",
       " sample2     9.553646\n",
       " sample3     9.318212\n",
       " sample4     9.101197\n",
       " sample5     9.113852\n",
       " sample6     9.354381\n",
       " sample7     9.211651\n",
       " sample8     9.729116\n",
       " sample9     9.052248\n",
       " sample10    9.101197\n",
       " sample11    8.565069\n",
       " sample12    8.778807\n",
       " sample13    8.267939\n",
       " sample14    8.306205\n",
       " sample15    8.060013\n",
       " sample16    8.203573\n",
       " sample17    8.418275\n",
       " sample18    8.344464\n",
       " sample19    8.021539\n",
       " sample20    8.306205\n",
       " dtype: float64,\n",
       " True)"
      ]
     },
     "execution_count": 15,
     "metadata": {},
     "output_type": "execute_result"
    }
   ],
   "source": [
    "#model fit for one gene (lung cancer ABCC3) with CNV \n",
    "irls(counts, sf, X, alpha, cnv)"
   ]
  },
  {
   "cell_type": "code",
   "execution_count": 32,
   "id": "90e44d30",
   "metadata": {},
   "outputs": [
    {
     "name": "stdout",
     "output_type": "stream",
     "text": [
      "Beta parameters: [ 7.22374309 -3.27526386]\n",
      "Estimated mean: [4.24907215 4.36193923 4.12650466 3.90949025 3.9221447  4.16267423\n",
      " 4.01994409 4.53740952 3.86054074 3.90949025 7.29745321 7.51119104\n",
      " 7.00032275 7.03858921 6.79239663 6.93595728 7.15065915 7.07684783\n",
      " 6.75392313 7.03858921]\n",
      "Convergence: True\n"
     ]
    },
    {
     "data": {
      "text/plain": [
       "(array([ 7.22374309, -3.27526386]),\n",
       " sample1     4.249072\n",
       " sample2     4.361939\n",
       " sample3     4.126505\n",
       " sample4     3.909490\n",
       " sample5     3.922145\n",
       " sample6     4.162674\n",
       " sample7     4.019944\n",
       " sample8     4.537410\n",
       " sample9     3.860541\n",
       " sample10    3.909490\n",
       " sample11    7.297453\n",
       " sample12    7.511191\n",
       " sample13    7.000323\n",
       " sample14    7.038589\n",
       " sample15    6.792397\n",
       " sample16    6.935957\n",
       " sample17    7.150659\n",
       " sample18    7.076848\n",
       " sample19    6.753923\n",
       " sample20    7.038589\n",
       " dtype: float64,\n",
       " True)"
      ]
     },
     "execution_count": 32,
     "metadata": {},
     "output_type": "execute_result"
    }
   ],
   "source": [
    "#SOSTDC1\n",
    "irls(counts, sf, X, alpha)"
   ]
  },
  {
   "cell_type": "code",
   "execution_count": 34,
   "id": "bfbad1ca",
   "metadata": {},
   "outputs": [
    {
     "name": "stdout",
     "output_type": "stream",
     "text": [
      "Beta parameters: [ 8.34080717 -4.39232779]\n",
      "Estimated mean: [4.24907229 4.36193937 4.1265048  3.90949039 3.92214485 4.16267437\n",
      " 4.01994423 4.53740966 3.86054088 3.90949039 8.41451728 8.62825511\n",
      " 8.11738683 8.15565328 7.90946071 8.05302136 8.26772322 8.1939119\n",
      " 7.8709872  8.15565328]\n",
      "Convergence: True\n"
     ]
    },
    {
     "data": {
      "text/plain": [
       "(array([ 8.34080717, -4.39232779]),\n",
       " sample1     4.249072\n",
       " sample2     4.361939\n",
       " sample3     4.126505\n",
       " sample4     3.909490\n",
       " sample5     3.922145\n",
       " sample6     4.162674\n",
       " sample7     4.019944\n",
       " sample8     4.537410\n",
       " sample9     3.860541\n",
       " sample10    3.909490\n",
       " sample11    8.414517\n",
       " sample12    8.628255\n",
       " sample13    8.117387\n",
       " sample14    8.155653\n",
       " sample15    7.909461\n",
       " sample16    8.053021\n",
       " sample17    8.267723\n",
       " sample18    8.193912\n",
       " sample19    7.870987\n",
       " sample20    8.155653\n",
       " dtype: float64,\n",
       " True)"
      ]
     },
     "execution_count": 34,
     "metadata": {},
     "output_type": "execute_result"
    }
   ],
   "source": [
    "#SOSTDC1\n",
    "irls(counts, sf, X, alpha, cnv)"
   ]
  },
  {
   "cell_type": "code",
   "execution_count": null,
   "id": "5abbf4c7",
   "metadata": {},
   "outputs": [],
   "source": [
    "\n",
    "\n"
   ]
  },
  {
   "cell_type": "code",
   "execution_count": 56,
   "id": "c0558b3d",
   "metadata": {},
   "outputs": [],
   "source": [
    "#from multiprocessing import Pool"
   ]
  },
  {
   "cell_type": "code",
   "execution_count": 18,
   "id": "52fa0fdf",
   "metadata": {},
   "outputs": [],
   "source": [
    "#NB GLM model fit\n",
    "\n",
    "import sys\n",
    "import time\n",
    "import warnings\n",
    "\n",
    "import anndata as ad \n",
    "import statsmodels.api as sm  # type: ignore\n",
    "from joblib import Parallel  # type: ignore\n",
    "from joblib import delayed\n",
    "from joblib import parallel_backend\n",
    "from statsmodels.tools.sm_exceptions import DomainWarning  # type: ignore"
   ]
  },
  {
   "cell_type": "code",
   "execution_count": 73,
   "id": "eeaf8fc2",
   "metadata": {},
   "outputs": [],
   "source": [
    "#Fit a NB per gene independently\n",
    "\n",
    "class ModelFit_MLE(ad.AnnData):\n",
    "    def __init__(\n",
    "        self,\n",
    "        *,\n",
    "        adata: Optional[ad.AnnData] = None\n",
    "        counts: Optional[pd.DataFrame],\n",
    "        metadata: Optional[pd.DataFrame],\n",
    "        cnv: Optional[pd.DataFrame],\n",
    "        min_mu: float = 0.5,\n",
    "        batch_size: int = 128,\n",
    "        joblib_verbosity: int = 0,\n",
    "        n_cpus: Optional[int] = 4,\n",
    "        quiet: bool = False,\n",
    "    ) <- None:\n",
    "        # Copy fields from original AnnData\n",
    "        self.__dict__.update(adata.__dict__)\n",
    "        \n",
    "        super().__init__(X=counts.astype(int), obs=metadata)\n",
    "        \n",
    "        self.counts = counts\n",
    "        self.metadata = X\n",
    "        self.cnv = cnv\n",
    "        self.min_mu = min_mu\n",
    "        self.batch_size = batch_size\n",
    "        self.joblib_verbosity = joblib_verbosity\n",
    "        self.n_processes = n_cpus\n",
    "        self.quiet = quiet\n",
    "        \n",
    "    def fit_LFC(self):\n",
    "        \"\"\"Fit log fold change (LFC) coefficients.\n",
    "\n",
    "        In the 2-level setting, the intercept corresponds to the base mean,\n",
    "        while the second is the actual LFC coefficient, in natural log scale.\n",
    "        \"\"\"\n",
    "        \n",
    "        # Convert design matrix to numpy for speed\n",
    "        design_matrix = self.X.values\n",
    "        # Exclude genes with all zeros\n",
    "        self.varm[\"non_zero\"] = ~(self.counts == 0).all(axis=0)\n",
    "        self.non_zero_idx = np.arange(self.n_vars)[self.varm[\"non_zero\"]]\n",
    "        self.non_zero_genes = self.var_names[self.varm[\"non_zero\"]]\n",
    "        \n",
    "        \n",
    "        if not self.quiet:\n",
    "            print(\"Fitting LFCs...\", file=sys.stderr)\n",
    "        start = time.time()\n",
    "        \n",
    "        with parallel_backend(\"loky\", inner_max_num_threads=1):\n",
    "            res = Parallel(\n",
    "                n_jobs=self.n_processes,\n",
    "                verbose=self.joblib_verbosity,\n",
    "                batch_size=self.batch_size,\n",
    "                \n",
    "            )(\n",
    "                delayed(irls)(\n",
    "                    counts=self.counts[:, i],\n",
    "                    sf=self.obsm[\"sf\"],\n",
    "                    X=X,\n",
    "                    alpha=self.varm[\"alpha\"][i],\n",
    "                    min_mu=self.min_mu,\n",
    "                \n",
    "                )\n",
    "                for i in self.non_zero_idx\n",
    "            )\n",
    "            \n",
    "        end = time.time()\n",
    "\n",
    "        if not self.quiet:\n",
    "            print(f\"... done in {end-start:.2f} seconds.\\n\", file=sys.stderr)\n",
    "        \n",
    "        beta, mu, converged = zip(*res)\n",
    "        mu = np.array(mu).T\n",
    "        \n",
    "        self.varm[\"LFC\"] = pd.DataFrame(\n",
    "            np.NaN,\n",
    "            index=self.var_names,\n",
    "            columns=self.X.columns,\n",
    "        )\n",
    "        \n",
    "        self.varm[\"LFC\"].update(\n",
    "            pd.DataFrame(\n",
    "                beta,\n",
    "                index=self.non_zero_genes,\n",
    "                columns=self.X.columns\n",
    "            )\n",
    "        )\n",
    "        \n",
    "        self.layers[\"mu_LFC\"] = np.full((self.n_obs, self.n_vars), np.NaN)\n",
    "        self.layers[\"mu_LFC\"][:, self.varm[\"non_zero\"]] = mu\n",
    "        \n",
    "        self.varm[\"LFC_converged\"] = np.full(self.n_vars, np.NaN)\n",
    "        self.varm[\"LFC_converged\"][self.varm[\"non_zero\"]] = converged\n"
   ]
  },
  {
   "cell_type": "code",
   "execution_count": 18,
   "id": "32b7369b",
   "metadata": {},
   "outputs": [],
   "source": [
    "#fit_LFC(counts, X)"
   ]
  },
  {
   "cell_type": "code",
   "execution_count": 20,
   "id": "3e819d91",
   "metadata": {},
   "outputs": [],
   "source": [
    "import joblib\n",
    "import sys\n",
    "import time\n",
    "from joblib import Parallel, delayed\n"
   ]
  },
  {
   "cell_type": "code",
   "execution_count": 22,
   "id": "19a7c762",
   "metadata": {},
   "outputs": [],
   "source": [
    "number_of_cpu = joblib.cpu_count()"
   ]
  },
  {
   "cell_type": "code",
   "execution_count": 42,
   "id": "8b486aac",
   "metadata": {},
   "outputs": [],
   "source": [
    "delayed_funcs = [delayed(irls)(counts[0:9],X,sf,alpha[0:9]) for row in counts[0:9]]"
   ]
  },
  {
   "cell_type": "code",
   "execution_count": 45,
   "id": "33515552",
   "metadata": {},
   "outputs": [],
   "source": [
    "parallel_pool = Parallel(n_jobs=2)"
   ]
  },
  {
   "cell_type": "code",
   "execution_count": 46,
   "id": "e5db8532",
   "metadata": {},
   "outputs": [
    {
     "name": "stderr",
     "output_type": "stream",
     "text": [
      "exception calling callback for <Future at 0x2b14feeeaf0 state=finished raised BrokenProcessPool>\n",
      "joblib.externals.loky.process_executor._RemoteTraceback: \n",
      "\"\"\"\n",
      "Traceback (most recent call last):\n",
      "  File \"C:\\Users\\rifug\\anaconda3.1\\lib\\site-packages\\joblib\\externals\\loky\\process_executor.py\", line 407, in _process_worker\n",
      "    call_item = call_queue.get(block=True, timeout=timeout)\n",
      "  File \"C:\\Users\\rifug\\anaconda3.1\\lib\\multiprocessing\\queues.py\", line 122, in get\n",
      "    return _ForkingPickler.loads(res)\n",
      "AttributeError: Can't get attribute 'gammaln' on <module '__main__' (built-in)>\n",
      "\"\"\"\n",
      "\n",
      "The above exception was the direct cause of the following exception:\n",
      "\n",
      "Traceback (most recent call last):\n",
      "  File \"C:\\Users\\rifug\\anaconda3.1\\lib\\site-packages\\joblib\\externals\\loky\\_base.py\", line 625, in _invoke_callbacks\n",
      "    callback(self)\n",
      "  File \"C:\\Users\\rifug\\anaconda3.1\\lib\\site-packages\\joblib\\parallel.py\", line 359, in __call__\n",
      "    self.parallel.dispatch_next()\n",
      "  File \"C:\\Users\\rifug\\anaconda3.1\\lib\\site-packages\\joblib\\parallel.py\", line 794, in dispatch_next\n",
      "    if not self.dispatch_one_batch(self._original_iterator):\n",
      "  File \"C:\\Users\\rifug\\anaconda3.1\\lib\\site-packages\\joblib\\parallel.py\", line 861, in dispatch_one_batch\n",
      "    self._dispatch(tasks)\n",
      "  File \"C:\\Users\\rifug\\anaconda3.1\\lib\\site-packages\\joblib\\parallel.py\", line 779, in _dispatch\n",
      "    job = self._backend.apply_async(batch, callback=cb)\n",
      "  File \"C:\\Users\\rifug\\anaconda3.1\\lib\\site-packages\\joblib\\_parallel_backends.py\", line 531, in apply_async\n",
      "    future = self._workers.submit(SafeFunction(func))\n",
      "  File \"C:\\Users\\rifug\\anaconda3.1\\lib\\site-packages\\joblib\\externals\\loky\\reusable_executor.py\", line 177, in submit\n",
      "    return super(_ReusablePoolExecutor, self).submit(\n",
      "  File \"C:\\Users\\rifug\\anaconda3.1\\lib\\site-packages\\joblib\\externals\\loky\\process_executor.py\", line 1115, in submit\n",
      "    raise self._flags.broken\n",
      "joblib.externals.loky.process_executor.BrokenProcessPool: A task has failed to un-serialize. Please ensure that the arguments of the function are all picklable.\n"
     ]
    },
    {
     "ename": "BrokenProcessPool",
     "evalue": "A task has failed to un-serialize. Please ensure that the arguments of the function are all picklable.",
     "output_type": "error",
     "traceback": [
      "\u001b[1;31m---------------------------------------------------------------------------\u001b[0m",
      "\u001b[1;31m_RemoteTraceback\u001b[0m                          Traceback (most recent call last)",
      "\u001b[1;31m_RemoteTraceback\u001b[0m: \n\"\"\"\nTraceback (most recent call last):\n  File \"C:\\Users\\rifug\\anaconda3.1\\lib\\site-packages\\joblib\\externals\\loky\\process_executor.py\", line 407, in _process_worker\n    call_item = call_queue.get(block=True, timeout=timeout)\n  File \"C:\\Users\\rifug\\anaconda3.1\\lib\\multiprocessing\\queues.py\", line 122, in get\n    return _ForkingPickler.loads(res)\nAttributeError: Can't get attribute 'gammaln' on <module '__main__' (built-in)>\n\"\"\"",
      "\nThe above exception was the direct cause of the following exception:\n",
      "\u001b[1;31mBrokenProcessPool\u001b[0m                         Traceback (most recent call last)",
      "\u001b[1;32m<timed eval>\u001b[0m in \u001b[0;36m<module>\u001b[1;34m\u001b[0m\n",
      "\u001b[1;32m~\\anaconda3.1\\lib\\site-packages\\joblib\\parallel.py\u001b[0m in \u001b[0;36m__call__\u001b[1;34m(self, iterable)\u001b[0m\n\u001b[0;32m   1054\u001b[0m \u001b[1;33m\u001b[0m\u001b[0m\n\u001b[0;32m   1055\u001b[0m             \u001b[1;32mwith\u001b[0m \u001b[0mself\u001b[0m\u001b[1;33m.\u001b[0m\u001b[0m_backend\u001b[0m\u001b[1;33m.\u001b[0m\u001b[0mretrieval_context\u001b[0m\u001b[1;33m(\u001b[0m\u001b[1;33m)\u001b[0m\u001b[1;33m:\u001b[0m\u001b[1;33m\u001b[0m\u001b[1;33m\u001b[0m\u001b[0m\n\u001b[1;32m-> 1056\u001b[1;33m                 \u001b[0mself\u001b[0m\u001b[1;33m.\u001b[0m\u001b[0mretrieve\u001b[0m\u001b[1;33m(\u001b[0m\u001b[1;33m)\u001b[0m\u001b[1;33m\u001b[0m\u001b[1;33m\u001b[0m\u001b[0m\n\u001b[0m\u001b[0;32m   1057\u001b[0m             \u001b[1;31m# Make sure that we get a last message telling us we are done\u001b[0m\u001b[1;33m\u001b[0m\u001b[1;33m\u001b[0m\u001b[0m\n\u001b[0;32m   1058\u001b[0m             \u001b[0melapsed_time\u001b[0m \u001b[1;33m=\u001b[0m \u001b[0mtime\u001b[0m\u001b[1;33m.\u001b[0m\u001b[0mtime\u001b[0m\u001b[1;33m(\u001b[0m\u001b[1;33m)\u001b[0m \u001b[1;33m-\u001b[0m \u001b[0mself\u001b[0m\u001b[1;33m.\u001b[0m\u001b[0m_start_time\u001b[0m\u001b[1;33m\u001b[0m\u001b[1;33m\u001b[0m\u001b[0m\n",
      "\u001b[1;32m~\\anaconda3.1\\lib\\site-packages\\joblib\\parallel.py\u001b[0m in \u001b[0;36mretrieve\u001b[1;34m(self)\u001b[0m\n\u001b[0;32m    933\u001b[0m             \u001b[1;32mtry\u001b[0m\u001b[1;33m:\u001b[0m\u001b[1;33m\u001b[0m\u001b[1;33m\u001b[0m\u001b[0m\n\u001b[0;32m    934\u001b[0m                 \u001b[1;32mif\u001b[0m \u001b[0mgetattr\u001b[0m\u001b[1;33m(\u001b[0m\u001b[0mself\u001b[0m\u001b[1;33m.\u001b[0m\u001b[0m_backend\u001b[0m\u001b[1;33m,\u001b[0m \u001b[1;34m'supports_timeout'\u001b[0m\u001b[1;33m,\u001b[0m \u001b[1;32mFalse\u001b[0m\u001b[1;33m)\u001b[0m\u001b[1;33m:\u001b[0m\u001b[1;33m\u001b[0m\u001b[1;33m\u001b[0m\u001b[0m\n\u001b[1;32m--> 935\u001b[1;33m                     \u001b[0mself\u001b[0m\u001b[1;33m.\u001b[0m\u001b[0m_output\u001b[0m\u001b[1;33m.\u001b[0m\u001b[0mextend\u001b[0m\u001b[1;33m(\u001b[0m\u001b[0mjob\u001b[0m\u001b[1;33m.\u001b[0m\u001b[0mget\u001b[0m\u001b[1;33m(\u001b[0m\u001b[0mtimeout\u001b[0m\u001b[1;33m=\u001b[0m\u001b[0mself\u001b[0m\u001b[1;33m.\u001b[0m\u001b[0mtimeout\u001b[0m\u001b[1;33m)\u001b[0m\u001b[1;33m)\u001b[0m\u001b[1;33m\u001b[0m\u001b[1;33m\u001b[0m\u001b[0m\n\u001b[0m\u001b[0;32m    936\u001b[0m                 \u001b[1;32melse\u001b[0m\u001b[1;33m:\u001b[0m\u001b[1;33m\u001b[0m\u001b[1;33m\u001b[0m\u001b[0m\n\u001b[0;32m    937\u001b[0m                     \u001b[0mself\u001b[0m\u001b[1;33m.\u001b[0m\u001b[0m_output\u001b[0m\u001b[1;33m.\u001b[0m\u001b[0mextend\u001b[0m\u001b[1;33m(\u001b[0m\u001b[0mjob\u001b[0m\u001b[1;33m.\u001b[0m\u001b[0mget\u001b[0m\u001b[1;33m(\u001b[0m\u001b[1;33m)\u001b[0m\u001b[1;33m)\u001b[0m\u001b[1;33m\u001b[0m\u001b[1;33m\u001b[0m\u001b[0m\n",
      "\u001b[1;32m~\\anaconda3.1\\lib\\site-packages\\joblib\\_parallel_backends.py\u001b[0m in \u001b[0;36mwrap_future_result\u001b[1;34m(future, timeout)\u001b[0m\n\u001b[0;32m    540\u001b[0m         AsyncResults.get from multiprocessing.\"\"\"\n\u001b[0;32m    541\u001b[0m         \u001b[1;32mtry\u001b[0m\u001b[1;33m:\u001b[0m\u001b[1;33m\u001b[0m\u001b[1;33m\u001b[0m\u001b[0m\n\u001b[1;32m--> 542\u001b[1;33m             \u001b[1;32mreturn\u001b[0m \u001b[0mfuture\u001b[0m\u001b[1;33m.\u001b[0m\u001b[0mresult\u001b[0m\u001b[1;33m(\u001b[0m\u001b[0mtimeout\u001b[0m\u001b[1;33m=\u001b[0m\u001b[0mtimeout\u001b[0m\u001b[1;33m)\u001b[0m\u001b[1;33m\u001b[0m\u001b[1;33m\u001b[0m\u001b[0m\n\u001b[0m\u001b[0;32m    543\u001b[0m         \u001b[1;32mexcept\u001b[0m \u001b[0mCfTimeoutError\u001b[0m \u001b[1;32mas\u001b[0m \u001b[0me\u001b[0m\u001b[1;33m:\u001b[0m\u001b[1;33m\u001b[0m\u001b[1;33m\u001b[0m\u001b[0m\n\u001b[0;32m    544\u001b[0m             \u001b[1;32mraise\u001b[0m \u001b[0mTimeoutError\u001b[0m \u001b[1;32mfrom\u001b[0m \u001b[0me\u001b[0m\u001b[1;33m\u001b[0m\u001b[1;33m\u001b[0m\u001b[0m\n",
      "\u001b[1;32m~\\anaconda3.1\\lib\\concurrent\\futures\\_base.py\u001b[0m in \u001b[0;36mresult\u001b[1;34m(self, timeout)\u001b[0m\n\u001b[0;32m    444\u001b[0m                     \u001b[1;32mraise\u001b[0m \u001b[0mCancelledError\u001b[0m\u001b[1;33m(\u001b[0m\u001b[1;33m)\u001b[0m\u001b[1;33m\u001b[0m\u001b[1;33m\u001b[0m\u001b[0m\n\u001b[0;32m    445\u001b[0m                 \u001b[1;32melif\u001b[0m \u001b[0mself\u001b[0m\u001b[1;33m.\u001b[0m\u001b[0m_state\u001b[0m \u001b[1;33m==\u001b[0m \u001b[0mFINISHED\u001b[0m\u001b[1;33m:\u001b[0m\u001b[1;33m\u001b[0m\u001b[1;33m\u001b[0m\u001b[0m\n\u001b[1;32m--> 446\u001b[1;33m                     \u001b[1;32mreturn\u001b[0m \u001b[0mself\u001b[0m\u001b[1;33m.\u001b[0m\u001b[0m__get_result\u001b[0m\u001b[1;33m(\u001b[0m\u001b[1;33m)\u001b[0m\u001b[1;33m\u001b[0m\u001b[1;33m\u001b[0m\u001b[0m\n\u001b[0m\u001b[0;32m    447\u001b[0m                 \u001b[1;32melse\u001b[0m\u001b[1;33m:\u001b[0m\u001b[1;33m\u001b[0m\u001b[1;33m\u001b[0m\u001b[0m\n\u001b[0;32m    448\u001b[0m                     \u001b[1;32mraise\u001b[0m \u001b[0mTimeoutError\u001b[0m\u001b[1;33m(\u001b[0m\u001b[1;33m)\u001b[0m\u001b[1;33m\u001b[0m\u001b[1;33m\u001b[0m\u001b[0m\n",
      "\u001b[1;32m~\\anaconda3.1\\lib\\concurrent\\futures\\_base.py\u001b[0m in \u001b[0;36m__get_result\u001b[1;34m(self)\u001b[0m\n\u001b[0;32m    389\u001b[0m         \u001b[1;32mif\u001b[0m \u001b[0mself\u001b[0m\u001b[1;33m.\u001b[0m\u001b[0m_exception\u001b[0m\u001b[1;33m:\u001b[0m\u001b[1;33m\u001b[0m\u001b[1;33m\u001b[0m\u001b[0m\n\u001b[0;32m    390\u001b[0m             \u001b[1;32mtry\u001b[0m\u001b[1;33m:\u001b[0m\u001b[1;33m\u001b[0m\u001b[1;33m\u001b[0m\u001b[0m\n\u001b[1;32m--> 391\u001b[1;33m                 \u001b[1;32mraise\u001b[0m \u001b[0mself\u001b[0m\u001b[1;33m.\u001b[0m\u001b[0m_exception\u001b[0m\u001b[1;33m\u001b[0m\u001b[1;33m\u001b[0m\u001b[0m\n\u001b[0m\u001b[0;32m    392\u001b[0m             \u001b[1;32mfinally\u001b[0m\u001b[1;33m:\u001b[0m\u001b[1;33m\u001b[0m\u001b[1;33m\u001b[0m\u001b[0m\n\u001b[0;32m    393\u001b[0m                 \u001b[1;31m# Break a reference cycle with the exception in self._exception\u001b[0m\u001b[1;33m\u001b[0m\u001b[1;33m\u001b[0m\u001b[0m\n",
      "\u001b[1;32m~\\anaconda3.1\\lib\\site-packages\\joblib\\externals\\loky\\_base.py\u001b[0m in \u001b[0;36m_invoke_callbacks\u001b[1;34m(self)\u001b[0m\n\u001b[0;32m    623\u001b[0m         \u001b[1;32mfor\u001b[0m \u001b[0mcallback\u001b[0m \u001b[1;32min\u001b[0m \u001b[0mself\u001b[0m\u001b[1;33m.\u001b[0m\u001b[0m_done_callbacks\u001b[0m\u001b[1;33m:\u001b[0m\u001b[1;33m\u001b[0m\u001b[1;33m\u001b[0m\u001b[0m\n\u001b[0;32m    624\u001b[0m             \u001b[1;32mtry\u001b[0m\u001b[1;33m:\u001b[0m\u001b[1;33m\u001b[0m\u001b[1;33m\u001b[0m\u001b[0m\n\u001b[1;32m--> 625\u001b[1;33m                 \u001b[0mcallback\u001b[0m\u001b[1;33m(\u001b[0m\u001b[0mself\u001b[0m\u001b[1;33m)\u001b[0m\u001b[1;33m\u001b[0m\u001b[1;33m\u001b[0m\u001b[0m\n\u001b[0m\u001b[0;32m    626\u001b[0m             \u001b[1;32mexcept\u001b[0m \u001b[0mBaseException\u001b[0m\u001b[1;33m:\u001b[0m\u001b[1;33m\u001b[0m\u001b[1;33m\u001b[0m\u001b[0m\n\u001b[0;32m    627\u001b[0m                 \u001b[0mLOGGER\u001b[0m\u001b[1;33m.\u001b[0m\u001b[0mexception\u001b[0m\u001b[1;33m(\u001b[0m\u001b[1;34m'exception calling callback for %r'\u001b[0m\u001b[1;33m,\u001b[0m \u001b[0mself\u001b[0m\u001b[1;33m)\u001b[0m\u001b[1;33m\u001b[0m\u001b[1;33m\u001b[0m\u001b[0m\n",
      "\u001b[1;32m~\\anaconda3.1\\lib\\site-packages\\joblib\\parallel.py\u001b[0m in \u001b[0;36m__call__\u001b[1;34m(self, out)\u001b[0m\n\u001b[0;32m    357\u001b[0m         \u001b[1;32mwith\u001b[0m \u001b[0mself\u001b[0m\u001b[1;33m.\u001b[0m\u001b[0mparallel\u001b[0m\u001b[1;33m.\u001b[0m\u001b[0m_lock\u001b[0m\u001b[1;33m:\u001b[0m\u001b[1;33m\u001b[0m\u001b[1;33m\u001b[0m\u001b[0m\n\u001b[0;32m    358\u001b[0m             \u001b[1;32mif\u001b[0m \u001b[0mself\u001b[0m\u001b[1;33m.\u001b[0m\u001b[0mparallel\u001b[0m\u001b[1;33m.\u001b[0m\u001b[0m_original_iterator\u001b[0m \u001b[1;32mis\u001b[0m \u001b[1;32mnot\u001b[0m \u001b[1;32mNone\u001b[0m\u001b[1;33m:\u001b[0m\u001b[1;33m\u001b[0m\u001b[1;33m\u001b[0m\u001b[0m\n\u001b[1;32m--> 359\u001b[1;33m                 \u001b[0mself\u001b[0m\u001b[1;33m.\u001b[0m\u001b[0mparallel\u001b[0m\u001b[1;33m.\u001b[0m\u001b[0mdispatch_next\u001b[0m\u001b[1;33m(\u001b[0m\u001b[1;33m)\u001b[0m\u001b[1;33m\u001b[0m\u001b[1;33m\u001b[0m\u001b[0m\n\u001b[0m\u001b[0;32m    360\u001b[0m \u001b[1;33m\u001b[0m\u001b[0m\n\u001b[0;32m    361\u001b[0m \u001b[1;33m\u001b[0m\u001b[0m\n",
      "\u001b[1;32m~\\anaconda3.1\\lib\\site-packages\\joblib\\parallel.py\u001b[0m in \u001b[0;36mdispatch_next\u001b[1;34m(self)\u001b[0m\n\u001b[0;32m    792\u001b[0m \u001b[1;33m\u001b[0m\u001b[0m\n\u001b[0;32m    793\u001b[0m         \"\"\"\n\u001b[1;32m--> 794\u001b[1;33m         \u001b[1;32mif\u001b[0m \u001b[1;32mnot\u001b[0m \u001b[0mself\u001b[0m\u001b[1;33m.\u001b[0m\u001b[0mdispatch_one_batch\u001b[0m\u001b[1;33m(\u001b[0m\u001b[0mself\u001b[0m\u001b[1;33m.\u001b[0m\u001b[0m_original_iterator\u001b[0m\u001b[1;33m)\u001b[0m\u001b[1;33m:\u001b[0m\u001b[1;33m\u001b[0m\u001b[1;33m\u001b[0m\u001b[0m\n\u001b[0m\u001b[0;32m    795\u001b[0m             \u001b[0mself\u001b[0m\u001b[1;33m.\u001b[0m\u001b[0m_iterating\u001b[0m \u001b[1;33m=\u001b[0m \u001b[1;32mFalse\u001b[0m\u001b[1;33m\u001b[0m\u001b[1;33m\u001b[0m\u001b[0m\n\u001b[0;32m    796\u001b[0m             \u001b[0mself\u001b[0m\u001b[1;33m.\u001b[0m\u001b[0m_original_iterator\u001b[0m \u001b[1;33m=\u001b[0m \u001b[1;32mNone\u001b[0m\u001b[1;33m\u001b[0m\u001b[1;33m\u001b[0m\u001b[0m\n",
      "\u001b[1;32m~\\anaconda3.1\\lib\\site-packages\\joblib\\parallel.py\u001b[0m in \u001b[0;36mdispatch_one_batch\u001b[1;34m(self, iterator)\u001b[0m\n\u001b[0;32m    859\u001b[0m                 \u001b[1;32mreturn\u001b[0m \u001b[1;32mFalse\u001b[0m\u001b[1;33m\u001b[0m\u001b[1;33m\u001b[0m\u001b[0m\n\u001b[0;32m    860\u001b[0m             \u001b[1;32melse\u001b[0m\u001b[1;33m:\u001b[0m\u001b[1;33m\u001b[0m\u001b[1;33m\u001b[0m\u001b[0m\n\u001b[1;32m--> 861\u001b[1;33m                 \u001b[0mself\u001b[0m\u001b[1;33m.\u001b[0m\u001b[0m_dispatch\u001b[0m\u001b[1;33m(\u001b[0m\u001b[0mtasks\u001b[0m\u001b[1;33m)\u001b[0m\u001b[1;33m\u001b[0m\u001b[1;33m\u001b[0m\u001b[0m\n\u001b[0m\u001b[0;32m    862\u001b[0m                 \u001b[1;32mreturn\u001b[0m \u001b[1;32mTrue\u001b[0m\u001b[1;33m\u001b[0m\u001b[1;33m\u001b[0m\u001b[0m\n\u001b[0;32m    863\u001b[0m \u001b[1;33m\u001b[0m\u001b[0m\n",
      "\u001b[1;32m~\\anaconda3.1\\lib\\site-packages\\joblib\\parallel.py\u001b[0m in \u001b[0;36m_dispatch\u001b[1;34m(self, batch)\u001b[0m\n\u001b[0;32m    777\u001b[0m         \u001b[1;32mwith\u001b[0m \u001b[0mself\u001b[0m\u001b[1;33m.\u001b[0m\u001b[0m_lock\u001b[0m\u001b[1;33m:\u001b[0m\u001b[1;33m\u001b[0m\u001b[1;33m\u001b[0m\u001b[0m\n\u001b[0;32m    778\u001b[0m             \u001b[0mjob_idx\u001b[0m \u001b[1;33m=\u001b[0m \u001b[0mlen\u001b[0m\u001b[1;33m(\u001b[0m\u001b[0mself\u001b[0m\u001b[1;33m.\u001b[0m\u001b[0m_jobs\u001b[0m\u001b[1;33m)\u001b[0m\u001b[1;33m\u001b[0m\u001b[1;33m\u001b[0m\u001b[0m\n\u001b[1;32m--> 779\u001b[1;33m             \u001b[0mjob\u001b[0m \u001b[1;33m=\u001b[0m \u001b[0mself\u001b[0m\u001b[1;33m.\u001b[0m\u001b[0m_backend\u001b[0m\u001b[1;33m.\u001b[0m\u001b[0mapply_async\u001b[0m\u001b[1;33m(\u001b[0m\u001b[0mbatch\u001b[0m\u001b[1;33m,\u001b[0m \u001b[0mcallback\u001b[0m\u001b[1;33m=\u001b[0m\u001b[0mcb\u001b[0m\u001b[1;33m)\u001b[0m\u001b[1;33m\u001b[0m\u001b[1;33m\u001b[0m\u001b[0m\n\u001b[0m\u001b[0;32m    780\u001b[0m             \u001b[1;31m# A job can complete so quickly than its callback is\u001b[0m\u001b[1;33m\u001b[0m\u001b[1;33m\u001b[0m\u001b[0m\n\u001b[0;32m    781\u001b[0m             \u001b[1;31m# called before we get here, causing self._jobs to\u001b[0m\u001b[1;33m\u001b[0m\u001b[1;33m\u001b[0m\u001b[0m\n",
      "\u001b[1;32m~\\anaconda3.1\\lib\\site-packages\\joblib\\_parallel_backends.py\u001b[0m in \u001b[0;36mapply_async\u001b[1;34m(self, func, callback)\u001b[0m\n\u001b[0;32m    529\u001b[0m     \u001b[1;32mdef\u001b[0m \u001b[0mapply_async\u001b[0m\u001b[1;33m(\u001b[0m\u001b[0mself\u001b[0m\u001b[1;33m,\u001b[0m \u001b[0mfunc\u001b[0m\u001b[1;33m,\u001b[0m \u001b[0mcallback\u001b[0m\u001b[1;33m=\u001b[0m\u001b[1;32mNone\u001b[0m\u001b[1;33m)\u001b[0m\u001b[1;33m:\u001b[0m\u001b[1;33m\u001b[0m\u001b[1;33m\u001b[0m\u001b[0m\n\u001b[0;32m    530\u001b[0m         \u001b[1;34m\"\"\"Schedule a func to be run\"\"\"\u001b[0m\u001b[1;33m\u001b[0m\u001b[1;33m\u001b[0m\u001b[0m\n\u001b[1;32m--> 531\u001b[1;33m         \u001b[0mfuture\u001b[0m \u001b[1;33m=\u001b[0m \u001b[0mself\u001b[0m\u001b[1;33m.\u001b[0m\u001b[0m_workers\u001b[0m\u001b[1;33m.\u001b[0m\u001b[0msubmit\u001b[0m\u001b[1;33m(\u001b[0m\u001b[0mSafeFunction\u001b[0m\u001b[1;33m(\u001b[0m\u001b[0mfunc\u001b[0m\u001b[1;33m)\u001b[0m\u001b[1;33m)\u001b[0m\u001b[1;33m\u001b[0m\u001b[1;33m\u001b[0m\u001b[0m\n\u001b[0m\u001b[0;32m    532\u001b[0m         \u001b[0mfuture\u001b[0m\u001b[1;33m.\u001b[0m\u001b[0mget\u001b[0m \u001b[1;33m=\u001b[0m \u001b[0mfunctools\u001b[0m\u001b[1;33m.\u001b[0m\u001b[0mpartial\u001b[0m\u001b[1;33m(\u001b[0m\u001b[0mself\u001b[0m\u001b[1;33m.\u001b[0m\u001b[0mwrap_future_result\u001b[0m\u001b[1;33m,\u001b[0m \u001b[0mfuture\u001b[0m\u001b[1;33m)\u001b[0m\u001b[1;33m\u001b[0m\u001b[1;33m\u001b[0m\u001b[0m\n\u001b[0;32m    533\u001b[0m         \u001b[1;32mif\u001b[0m \u001b[0mcallback\u001b[0m \u001b[1;32mis\u001b[0m \u001b[1;32mnot\u001b[0m \u001b[1;32mNone\u001b[0m\u001b[1;33m:\u001b[0m\u001b[1;33m\u001b[0m\u001b[1;33m\u001b[0m\u001b[0m\n",
      "\u001b[1;32m~\\anaconda3.1\\lib\\site-packages\\joblib\\externals\\loky\\reusable_executor.py\u001b[0m in \u001b[0;36msubmit\u001b[1;34m(self, fn, *args, **kwargs)\u001b[0m\n\u001b[0;32m    175\u001b[0m     \u001b[1;32mdef\u001b[0m \u001b[0msubmit\u001b[0m\u001b[1;33m(\u001b[0m\u001b[0mself\u001b[0m\u001b[1;33m,\u001b[0m \u001b[0mfn\u001b[0m\u001b[1;33m,\u001b[0m \u001b[1;33m*\u001b[0m\u001b[0margs\u001b[0m\u001b[1;33m,\u001b[0m \u001b[1;33m**\u001b[0m\u001b[0mkwargs\u001b[0m\u001b[1;33m)\u001b[0m\u001b[1;33m:\u001b[0m\u001b[1;33m\u001b[0m\u001b[1;33m\u001b[0m\u001b[0m\n\u001b[0;32m    176\u001b[0m         \u001b[1;32mwith\u001b[0m \u001b[0mself\u001b[0m\u001b[1;33m.\u001b[0m\u001b[0m_submit_resize_lock\u001b[0m\u001b[1;33m:\u001b[0m\u001b[1;33m\u001b[0m\u001b[1;33m\u001b[0m\u001b[0m\n\u001b[1;32m--> 177\u001b[1;33m             return super(_ReusablePoolExecutor, self).submit(\n\u001b[0m\u001b[0;32m    178\u001b[0m                 fn, *args, **kwargs)\n\u001b[0;32m    179\u001b[0m \u001b[1;33m\u001b[0m\u001b[0m\n",
      "\u001b[1;32m~\\anaconda3.1\\lib\\site-packages\\joblib\\externals\\loky\\process_executor.py\u001b[0m in \u001b[0;36msubmit\u001b[1;34m(self, fn, *args, **kwargs)\u001b[0m\n\u001b[0;32m   1113\u001b[0m         \u001b[1;32mwith\u001b[0m \u001b[0mself\u001b[0m\u001b[1;33m.\u001b[0m\u001b[0m_flags\u001b[0m\u001b[1;33m.\u001b[0m\u001b[0mshutdown_lock\u001b[0m\u001b[1;33m:\u001b[0m\u001b[1;33m\u001b[0m\u001b[1;33m\u001b[0m\u001b[0m\n\u001b[0;32m   1114\u001b[0m             \u001b[1;32mif\u001b[0m \u001b[0mself\u001b[0m\u001b[1;33m.\u001b[0m\u001b[0m_flags\u001b[0m\u001b[1;33m.\u001b[0m\u001b[0mbroken\u001b[0m \u001b[1;32mis\u001b[0m \u001b[1;32mnot\u001b[0m \u001b[1;32mNone\u001b[0m\u001b[1;33m:\u001b[0m\u001b[1;33m\u001b[0m\u001b[1;33m\u001b[0m\u001b[0m\n\u001b[1;32m-> 1115\u001b[1;33m                 \u001b[1;32mraise\u001b[0m \u001b[0mself\u001b[0m\u001b[1;33m.\u001b[0m\u001b[0m_flags\u001b[0m\u001b[1;33m.\u001b[0m\u001b[0mbroken\u001b[0m\u001b[1;33m\u001b[0m\u001b[1;33m\u001b[0m\u001b[0m\n\u001b[0m\u001b[0;32m   1116\u001b[0m             \u001b[1;32mif\u001b[0m \u001b[0mself\u001b[0m\u001b[1;33m.\u001b[0m\u001b[0m_flags\u001b[0m\u001b[1;33m.\u001b[0m\u001b[0mshutdown\u001b[0m\u001b[1;33m:\u001b[0m\u001b[1;33m\u001b[0m\u001b[1;33m\u001b[0m\u001b[0m\n\u001b[0;32m   1117\u001b[0m                 raise ShutdownExecutorError(\n",
      "\u001b[1;31mBrokenProcessPool\u001b[0m: A task has failed to un-serialize. Please ensure that the arguments of the function are all picklable."
     ]
    }
   ],
   "source": [
    "%time parallel_pool(delayed_funcs)"
   ]
  },
  {
   "cell_type": "code",
   "execution_count": 520,
   "id": "7fcf871a",
   "metadata": {},
   "outputs": [],
   "source": [
    "#calculate NB log likelihood\n",
    "\n",
    "from scipy.stats import nbinom\n",
    "\n",
    "def nbLogLike(counts, alpha, mu=mu):\n",
    "    size = 1/alpha\n",
    "    prob = size/(size+mu)\n",
    "    ll = nbinom.logpmf(counts, size, prob)\n",
    "    return ll"
   ]
  },
  {
   "cell_type": "code",
   "execution_count": 522,
   "id": "3f2d2cfa",
   "metadata": {},
   "outputs": [
    {
     "data": {
      "text/plain": [
       "array([-7.66030063, -7.25591745, -8.15007698, -7.5863198 , -8.39987108,\n",
       "       -8.18847667, -8.11595003, -7.5441386 , -7.35097747, -7.03421392])"
      ]
     },
     "execution_count": 522,
     "metadata": {},
     "output_type": "execute_result"
    }
   ],
   "source": [
    "logLike = nbLogLike(counts, alpha, mu)\n",
    "logLike"
   ]
  },
  {
   "cell_type": "code",
   "execution_count": 523,
   "id": "bc83490b",
   "metadata": {},
   "outputs": [
    {
     "data": {
      "text/plain": [
       "-77.28624262312107"
      ]
     },
     "execution_count": 523,
     "metadata": {},
     "output_type": "execute_result"
    }
   ],
   "source": [
    "np.sum(logLike)"
   ]
  },
  {
   "cell_type": "code",
   "execution_count": 546,
   "id": "f77d93a6",
   "metadata": {},
   "outputs": [
    {
     "data": {
      "text/plain": [
       "array([[0.74263533, 0.        , 0.        , 0.        , 0.        ,\n",
       "        0.        , 0.        , 0.        , 0.        , 0.        ],\n",
       "       [0.        , 0.74283371, 0.        , 0.        , 0.        ,\n",
       "        0.        , 0.        , 0.        , 0.        , 0.        ],\n",
       "       [0.        , 0.        , 0.74254996, 0.        , 0.        ,\n",
       "        0.        , 0.        , 0.        , 0.        , 0.        ],\n",
       "       [0.        , 0.        , 0.        , 0.7428664 , 0.        ,\n",
       "        0.        , 0.        , 0.        , 0.        , 0.        ],\n",
       "       [0.        , 0.        , 0.        , 0.        , 0.74230629,\n",
       "        0.        , 0.        , 0.        , 0.        , 0.        ],\n",
       "       [0.        , 0.        , 0.        , 0.        , 0.        ,\n",
       "        0.74246905, 0.        , 0.        , 0.        , 0.        ],\n",
       "       [0.        , 0.        , 0.        , 0.        , 0.        ,\n",
       "        0.        , 0.74268622, 0.        , 0.        , 0.        ],\n",
       "       [0.        , 0.        , 0.        , 0.        , 0.        ,\n",
       "        0.        , 0.        , 0.74245865, 0.        , 0.        ],\n",
       "       [0.        , 0.        , 0.        , 0.        , 0.        ,\n",
       "        0.        , 0.        , 0.        , 0.74279947, 0.        ],\n",
       "       [0.        , 0.        , 0.        , 0.        , 0.        ,\n",
       "        0.        , 0.        , 0.        , 0.        , 0.74206445]])"
      ]
     },
     "execution_count": 546,
     "metadata": {},
     "output_type": "execute_result"
    }
   ],
   "source": [
    "W = np.diag(mu / (1 + mu * alpha))\n",
    "W"
   ]
  },
  {
   "cell_type": "code",
   "execution_count": 548,
   "id": "d4631db9",
   "metadata": {},
   "outputs": [
    {
     "data": {
      "text/html": [
       "<div>\n",
       "<style scoped>\n",
       "    .dataframe tbody tr th:only-of-type {\n",
       "        vertical-align: middle;\n",
       "    }\n",
       "\n",
       "    .dataframe tbody tr th {\n",
       "        vertical-align: top;\n",
       "    }\n",
       "\n",
       "    .dataframe thead th {\n",
       "        text-align: right;\n",
       "    }\n",
       "</style>\n",
       "<table border=\"1\" class=\"dataframe\">\n",
       "  <thead>\n",
       "    <tr style=\"text-align: right;\">\n",
       "      <th></th>\n",
       "      <th>intercept</th>\n",
       "      <th>condition</th>\n",
       "    </tr>\n",
       "  </thead>\n",
       "  <tbody>\n",
       "    <tr>\n",
       "      <th>intercept</th>\n",
       "      <td>7.425670</td>\n",
       "      <td>3.712478</td>\n",
       "    </tr>\n",
       "    <tr>\n",
       "      <th>condition</th>\n",
       "      <td>3.712478</td>\n",
       "      <td>3.712478</td>\n",
       "    </tr>\n",
       "  </tbody>\n",
       "</table>\n",
       "</div>"
      ],
      "text/plain": [
       "           intercept  condition\n",
       "intercept   7.425670   3.712478\n",
       "condition   3.712478   3.712478"
      ]
     },
     "execution_count": 548,
     "metadata": {},
     "output_type": "execute_result"
    }
   ],
   "source": [
    "M = X.T @ W @ X\n",
    "M"
   ]
  },
  {
   "cell_type": "code",
   "execution_count": 550,
   "id": "2ae6c204",
   "metadata": {},
   "outputs": [
    {
     "data": {
      "text/plain": [
       "array([[ 0.26930995, -0.26930988],\n",
       "       [-0.26930988,  0.53867161]])"
      ]
     },
     "execution_count": 550,
     "metadata": {},
     "output_type": "execute_result"
    }
   ],
   "source": [
    "H = np.linalg.inv(M + ridge_factor)\n",
    "H"
   ]
  },
  {
   "cell_type": "code",
   "execution_count": 578,
   "id": "f1d973d4",
   "metadata": {},
   "outputs": [],
   "source": [
    "contrast = [1,-1]\n",
    "contrast = np.array(contrast)"
   ]
  },
  {
   "cell_type": "code",
   "execution_count": 579,
   "id": "e2c4c0e9",
   "metadata": {},
   "outputs": [
    {
     "data": {
      "text/plain": [
       "array([ 0.53861982, -0.80798148])"
      ]
     },
     "execution_count": 579,
     "metadata": {},
     "output_type": "execute_result"
    }
   ],
   "source": [
    "Hc = H @ contrast\n",
    "Hc"
   ]
  },
  {
   "cell_type": "code",
   "execution_count": 580,
   "id": "9dac3072",
   "metadata": {},
   "outputs": [
    {
     "data": {
      "text/plain": [
       "1.1604311108101992"
      ]
     },
     "execution_count": 580,
     "metadata": {},
     "output_type": "execute_result"
    }
   ],
   "source": [
    "wald_se = np.sqrt(Hc.T @ M @ Hc)\n",
    "wald_se"
   ]
  },
  {
   "cell_type": "code",
   "execution_count": 581,
   "id": "b15cd203",
   "metadata": {},
   "outputs": [
    {
     "data": {
      "text/plain": [
       "4.681948036892561"
      ]
     },
     "execution_count": 581,
     "metadata": {},
     "output_type": "execute_result"
    }
   ],
   "source": [
    "wald_statistic = contrast @ lfc / wald_se\n",
    "wald_statistic"
   ]
  },
  {
   "cell_type": "code",
   "execution_count": 582,
   "id": "d45057f9",
   "metadata": {},
   "outputs": [
    {
     "data": {
      "text/plain": [
       "2.841615217117093e-06"
      ]
     },
     "execution_count": 582,
     "metadata": {},
     "output_type": "execute_result"
    }
   ],
   "source": [
    "wald_p_value = 2 * norm.sf(np.abs(wald_statistic))\n",
    "wald_p_value"
   ]
  },
  {
   "cell_type": "code",
   "execution_count": 587,
   "id": "fa6da323",
   "metadata": {},
   "outputs": [],
   "source": [
    "#Run Wald test for differential expression\n",
    "\n",
    "def wald_test(\n",
    "    X: np.ndarray,\n",
    "    alpha: float,\n",
    "    lfc: np.ndarray,\n",
    "    mu: float,\n",
    "    ridge_factor: np.ndarray,\n",
    "    contrast: np.ndarray,\n",
    ") -> Tuple[float, float, float]:\n",
    "    # Build covariance matrix estimator\n",
    "    W = np.diag(mu / (1 + mu * alpha))\n",
    "    M = X.T @ W @ X\n",
    "    H = np.linalg.inv(M + ridge_factor)\n",
    "    Hc = H @ contrast\n",
    "    # Evaluate standard error and Wald statistic\n",
    "    wald_se: float = np.sqrt(Hc.T @ M @ Hc)\n",
    "    wald_statistic: float = contrast @ lfc / wald_se\n",
    "    wald_p_value = 2 * norm.sf(np.abs(wald_statistic))\n",
    "    \n",
    "    return print(\"Wald_p_value:\", wald_p_value, \"Wald_statistic:\", wald_statistic, \"Wald_se:\", wald_se)"
   ]
  },
  {
   "cell_type": "code",
   "execution_count": 588,
   "id": "2d96643d",
   "metadata": {},
   "outputs": [
    {
     "name": "stdout",
     "output_type": "stream",
     "text": [
      "Wald_p_value: 2.841615217117093e-06 Wald_statistic: 4.681948036892561 Wald_se: 1.1604311108101992\n"
     ]
    }
   ],
   "source": [
    "wald_test(X, alpha, lfc, mu, ridge_factor, contrast)"
   ]
  },
  {
   "cell_type": "code",
   "execution_count": null,
   "id": "f64cbdb4",
   "metadata": {},
   "outputs": [],
   "source": []
  },
  {
   "cell_type": "code",
   "execution_count": 75,
   "id": "c2770c6c",
   "metadata": {},
   "outputs": [
    {
     "data": {
      "text/plain": [
       "array([2, 2, 2, 2, 2, 2, 0, 0, 1, 1])"
      ]
     },
     "execution_count": 75,
     "metadata": {},
     "output_type": "execute_result"
    }
   ],
   "source": [
    "#simulate CN data\n",
    "#counts = [65,154,143,110,182,61,77,63,76,150]\n",
    "n = [2,2,2,2,2,2,0,0,1,1,]\n",
    "n = np.array(n)\n",
    "n"
   ]
  },
  {
   "cell_type": "code",
   "execution_count": null,
   "id": "5c370646",
   "metadata": {},
   "outputs": [],
   "source": []
  },
  {
   "cell_type": "code",
   "execution_count": null,
   "id": "36dbe0a6",
   "metadata": {},
   "outputs": [],
   "source": [
    "CNV_factorisation = [0,1,2,3,4]"
   ]
  },
  {
   "cell_type": "code",
   "execution_count": null,
   "id": "5661845d",
   "metadata": {},
   "outputs": [],
   "source": [
    "#model\n",
    "\n",
    "log(q) = beta_int * (1+n) + beta1 * X\n",
    "\n",
    "mu = sf * np.exp((X @ beta) \n",
    "                 \n",
    "log(n+10e-9)"
   ]
  },
  {
   "cell_type": "code",
   "execution_count": null,
   "id": "68565c85",
   "metadata": {},
   "outputs": [],
   "source": []
  },
  {
   "cell_type": "code",
   "execution_count": null,
   "id": "f29cd154",
   "metadata": {},
   "outputs": [],
   "source": []
  },
  {
   "cell_type": "code",
   "execution_count": null,
   "id": "7bbd63ef",
   "metadata": {},
   "outputs": [],
   "source": []
  },
  {
   "cell_type": "code",
   "execution_count": null,
   "id": "62cce6db",
   "metadata": {},
   "outputs": [],
   "source": []
  }
 ],
 "metadata": {
  "kernelspec": {
   "display_name": "Python 3 (ipykernel)",
   "language": "python",
   "name": "python3"
  },
  "language_info": {
   "codemirror_mode": {
    "name": "ipython",
    "version": 3
   },
   "file_extension": ".py",
   "mimetype": "text/x-python",
   "name": "python",
   "nbconvert_exporter": "python",
   "pygments_lexer": "ipython3",
   "version": "3.9.13"
  }
 },
 "nbformat": 4,
 "nbformat_minor": 5
}
