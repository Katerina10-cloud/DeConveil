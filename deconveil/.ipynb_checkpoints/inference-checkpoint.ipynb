{
 "cells": [
  {
   "cell_type": "code",
   "execution_count": null,
   "id": "a386d464-a009-4dc8-a18f-05c394985590",
   "metadata": {},
   "outputs": [],
   "source": [
    "from abc import ABC\n",
    "from abc import abstractmethod\n",
    "from typing import Literal\n",
    "from typing import Optional\n",
    "from typing import Tuple\n",
    "\n",
    "import numpy as np\n",
    "import pandas as pd"
   ]
  },
  {
   "cell_type": "code",
   "execution_count": null,
   "id": "877795c1-04dd-48db-8ba5-2f485f02e72d",
   "metadata": {},
   "outputs": [],
   "source": [
    "class Inference(ABC):\n",
    "    \"\"\"Abstract class with DESeq2-related inference methods.\"\"\"\n",
    "    \n",
    "    @abstractmethod\n",
    "    def irls_glm(\n",
    "        self,\n",
    "        counts: np.ndarray,\n",
    "        size_factors: np.ndarray,\n",
    "        design_matrix: np.ndarray,\n",
    "        disp: np.ndarray,\n",
    "        cnv: np.ndarray,\n",
    "        min_mu: float,\n",
    "        beta_tol: float,\n",
    "        min_beta: float = -30,\n",
    "        max_beta: float = 30,\n",
    "        optimizer: Literal[\"BFGS\", \"L-BFGS-B\"] = \"L-BFGS-B\",\n",
    "        maxiter: int = 250,\n",
    "    ) -> Tuple[np.ndarray, np.ndarray, np.ndarray, np.ndarray]\n",
    "    \n",
    "\n",
    "    @abstractmethod\n",
    "    def alpha_mle(\n",
    "        self,\n",
    "        counts: np.ndarray,\n",
    "        design_matrix: np.ndarray,\n",
    "        mu: np.ndarray,\n",
    "        alpha_hat: np.ndarray,\n",
    "        min_disp: float,\n",
    "        max_disp: float,\n",
    "        prior_disp_var: Optional[float] = None,\n",
    "        cr_reg: bool = True,\n",
    "        prior_reg: bool = False,\n",
    "        optimizer: Literal[\"BFGS\", \"L-BFGS-B\"] = \"L-BFGS-B\",\n",
    "    ) -> Tuple[np.ndarray, np.ndarray]\n",
    "\n",
    "    @abstractmethod\n",
    "    def fit_rough_dispersions(\n",
    "        self, normed_counts: np.ndarray, design_matrix: np.ndarray\n",
    "    ) -> np.ndarray\n",
    "    \n",
    "    @abstractmethod \n",
    "    def fit_moments_dispersions(\n",
    "        self, normed_counts: np.ndarray, size_factors: np.ndarray\n",
    "    ) -> np.ndarray\n",
    "\n",
    "    \n"
   ]
  }
 ],
 "metadata": {
  "kernelspec": {
   "display_name": "Python 3 (ipykernel)",
   "language": "python",
   "name": "python3"
  },
  "language_info": {
   "codemirror_mode": {
    "name": "ipython",
    "version": 3
   },
   "file_extension": ".py",
   "mimetype": "text/x-python",
   "name": "python",
   "nbconvert_exporter": "python",
   "pygments_lexer": "ipython3",
   "version": "3.11.7"
  }
 },
 "nbformat": 4,
 "nbformat_minor": 5
}
