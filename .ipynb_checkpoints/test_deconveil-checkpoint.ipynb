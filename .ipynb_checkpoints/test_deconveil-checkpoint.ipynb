{
 "cells": [
  {
   "cell_type": "markdown",
   "id": "31e57b4d-e596-462c-9790-b20eff06818c",
   "metadata": {},
   "source": [
    "DeConveil test"
   ]
  },
  {
   "cell_type": "code",
   "execution_count": 1,
   "id": "8972c233-8bd3-4152-bbe9-21edb9a0a92a",
   "metadata": {},
   "outputs": [],
   "source": [
    "import os\n",
    "import pickle as pkl\n",
    "import pandas as pd\n",
    "import numpy as np"
   ]
  },
  {
   "cell_type": "code",
   "execution_count": 3,
   "id": "f1ae78b9-2dd9-4320-bc6e-f48e8e8ca960",
   "metadata": {},
   "outputs": [],
   "source": [
    "from pydeseq2.utils import build_design_matrix\n",
    "from deconveil.dds import deconveil_fit\n",
    "from deconveil.inference import Inference\n",
    "from deconveil.default_inference import DefInference\n",
    "import deconveil.utils_CNaware\n",
    "from deconveil import deconveil_fit\n",
    "from deconveil.ds import deconveil_stats"
   ]
  },
  {
   "cell_type": "markdown",
   "id": "fe534c21-d31e-41fb-9957-8a6800b51a15",
   "metadata": {},
   "source": [
    "Loading data "
   ]
  },
  {
   "cell_type": "code",
   "execution_count": 101,
   "id": "3182fa9a-e686-4ada-bea4-61377a8020a1",
   "metadata": {},
   "outputs": [],
   "source": [
    "# Test simulated data\n",
    "#DATA_PATH = \"/Users/katsiarynadavydzenka/Documents/PhD_AI/CN-aware-DGE/datasets/\"\n",
    "#counts_df = pd.read_csv(os.path.join(DATA_PATH, \"rna_counts.csv\"), index_col=0)\n",
    "#counts_df = counts_df.T\n",
    "#metadata = pd.read_csv(os.path.join(DATA_PATH, \"metadata.csv\"), index_col=0)\n",
    "#cnv = pd.read_csv(os.path.join(DATA_PATH, \"cnv.csv\"), index_col=0)\n",
    "#cnv = cnv.T"
   ]
  },
  {
   "cell_type": "code",
   "execution_count": 5,
   "id": "af0e5c5c-a00c-45c7-b22d-fee1217d1ec1",
   "metadata": {},
   "outputs": [],
   "source": [
    "# Test Pan-cancer data\n",
    "\n",
    "DATA_PATH = \"/Users/katsiarynadavydzenka/Documents/PhD_AI/TCGA/STAD/test\"\n",
    "counts_df = pd.read_csv(os.path.join(DATA_PATH, \"rna.csv\"), index_col=0)\n",
    "counts_df = counts_df.T\n",
    "metadata = pd.read_csv(os.path.join(DATA_PATH, \"metadata.csv\"), index_col=0)\n",
    "cnv = pd.read_csv(os.path.join(DATA_PATH, \"cnv.csv\"), index_col=0)\n",
    "cnv = cnv.T"
   ]
  },
  {
   "cell_type": "markdown",
   "id": "bb7dddf5-4b74-4034-9d97-b239163d78ee",
   "metadata": {},
   "source": [
    "Perform Inference and Statistical test"
   ]
  },
  {
   "cell_type": "code",
   "execution_count": 7,
   "id": "d4a92b99-fa2f-4b1d-9337-c1073a2be674",
   "metadata": {},
   "outputs": [
    {
     "name": "stderr",
     "output_type": "stream",
     "text": [
      "Fitting size factors...\n",
      "... done in 0.04 seconds.\n",
      "\n",
      "Fitting dispersions...\n",
      "... done in 1.80 seconds.\n",
      "\n",
      "Fitting dispersion trend curve...\n",
      "... done in 0.28 seconds.\n",
      "\n",
      "Fitting MAP dispersions...\n",
      "... done in 2.42 seconds.\n",
      "\n",
      "Fitting LFCs...\n",
      "... done in 1.27 seconds.\n",
      "\n",
      "Calculating cook's distance...\n",
      "... done in 0.08 seconds.\n",
      "\n",
      "Replacing 499 outlier genes.\n",
      "\n",
      "Fitting dispersions...\n"
     ]
    },
    {
     "name": "stdout",
     "output_type": "stream",
     "text": [
      "replace_mask before filtering: (64, 499)\n",
      "Number of True values in replace_mask: 697\n",
      "replacement_counts_trimmed shape: (61, 499)\n"
     ]
    },
    {
     "name": "stderr",
     "output_type": "stream",
     "text": [
      "... done in 0.07 seconds.\n",
      "\n",
      "Fitting MAP dispersions...\n",
      "... done in 0.10 seconds.\n",
      "\n",
      "Fitting LFCs...\n",
      "... done in 0.05 seconds.\n",
      "\n",
      "Running Wald tests...\n",
      "... done in 0.56 seconds.\n",
      "\n",
      "/opt/anaconda3/lib/python3.11/site-packages/pydeseq2/utils.py:1599: FutureWarning: `rcond` parameter will change to the default of machine precision times ``max(M, N)`` where M and N are the input matrix dimensions.\n",
      "To use the future default and silence this warning we advise to pass `rcond=None`, to keep using the old, explicitly pass `rcond=-1`.\n",
      "  beta = np.linalg.lstsq(A, b)[0]\n",
      "Fitting MAP LFCs...\n"
     ]
    },
    {
     "name": "stdout",
     "output_type": "stream",
     "text": [
      "Log2 fold change & Wald test p-value: condition B vs A\n",
      "              baseMean  log2FoldChange     lfcSE      stat    pvalue      padj\n",
      "A1BG-AS1     29.745399       -0.165771  0.230461 -0.818715  0.412949  0.527916\n",
      "A2ML1     29319.797526       -0.224643  0.584151 -3.244299  0.001177  0.004301\n",
      "A4GALT     1271.315666       -0.103942  0.187939 -0.625653  0.531542  0.639031\n",
      "A4GNT       455.611732       -1.815053  0.665089 -3.485436  0.000491  0.002039\n",
      "AAAS       2091.957826        0.188806  0.104111  1.904175  0.056887  0.109230\n",
      "...                ...             ...       ...       ...       ...       ...\n",
      "ZXDC       1591.210284        0.083674  0.115131  0.772791  0.439646  0.554807\n",
      "ZYG11A       42.787794       -0.200873  0.393102 -0.738468  0.460230  0.573745\n",
      "ZYG11B     2510.156872       -0.676494  0.162652 -4.501000  0.000007  0.000051\n",
      "ZYX       15186.039450       -0.060125  0.181660  0.208921  0.834510  0.883340\n",
      "ZZEF1      5943.322785       -0.323732  0.167991 -1.809046  0.070444  0.130064\n",
      "\n",
      "[16467 rows x 6 columns]\n"
     ]
    },
    {
     "name": "stderr",
     "output_type": "stream",
     "text": [
      "... done in 1.98 seconds.\n",
      "\n"
     ]
    }
   ],
   "source": [
    "inference = DefInference(n_cpus=8)\n",
    "dds = deconveil_fit(\n",
    "    counts=counts_df,\n",
    "    metadata=metadata,\n",
    "    cnv=cnv,\n",
    "    design_factors=\"condition\",\n",
    "    inference=inference,\n",
    "    refit_cooks=True\n",
    ")\n",
    "dds.fit_size_factors()\n",
    "dds.fit_genewise_dispersions()\n",
    "dds.fit_dispersion_trend()\n",
    "dds.fit_dispersion_prior()\n",
    "dds.fit_MAP_dispersions()\n",
    "dds.fit_LFC()\n",
    "\n",
    "dds.calculate_cooks()\n",
    "if dds.refit_cooks:\n",
    "    # Replace outlier counts\n",
    "    dds.refit()\n",
    "    \n",
    "# Statistical analysis\n",
    "stat_res = deconveil_stats(dds, \n",
    "                            alpha=0.05, \n",
    "                            independent_filter=True, \n",
    "                            cooks_filter=True)\n",
    "stat_res.run_wald_test()\n",
    "\n",
    "if stat_res.independent_filter:\n",
    "    stat_res._independent_filtering()\n",
    "else:\n",
    "    stat_res._p_value_adjustment()\n",
    "\n",
    "stat_res.lfc_shrink(coeff=\"condition_B_vs_A\")\n",
    "stat_res.summary()\n",
    "\n",
    "OUTPUT_PATH = \"/Users/katsiarynadavydzenka/Documents/PhD_AI/CN-aware-DGE/results/STAD/\"\n",
    "os.makedirs(OUTPUT_PATH, exist_ok=True)  # Create path if it doesn't exist\n",
    "stat_res.results_df.to_csv(os.path.join(OUTPUT_PATH, \"res_CNaware.csv\"))"
   ]
  },
  {
   "cell_type": "code",
   "execution_count": 78,
   "id": "61c71d01-e45e-4666-a772-259e47e2c1f5",
   "metadata": {},
   "outputs": [],
   "source": [
    "#stat_res.plot_MA(s=10)"
   ]
  },
  {
   "cell_type": "markdown",
   "id": "22e0778c-2b2d-451f-a658-50c7565c59cf",
   "metadata": {},
   "source": []
  },
  {
   "cell_type": "markdown",
   "id": "72febdd5-f938-4191-94f4-12b303a696ae",
   "metadata": {},
   "source": [
    "Volcano plot"
   ]
  },
  {
   "cell_type": "code",
   "execution_count": null,
   "id": "e4ace8cb-d1a9-4153-a73e-754b290be6cc",
   "metadata": {},
   "outputs": [],
   "source": [
    "from bioinfokit import analys, visuz"
   ]
  },
  {
   "cell_type": "code",
   "execution_count": 66,
   "id": "0a954480-70bb-416b-87e4-5f1c72bca6a3",
   "metadata": {},
   "outputs": [
    {
     "data": {
      "text/html": [
       "<div>\n",
       "<style scoped>\n",
       "    .dataframe tbody tr th:only-of-type {\n",
       "        vertical-align: middle;\n",
       "    }\n",
       "\n",
       "    .dataframe tbody tr th {\n",
       "        vertical-align: top;\n",
       "    }\n",
       "\n",
       "    .dataframe thead th {\n",
       "        text-align: right;\n",
       "    }\n",
       "</style>\n",
       "<table border=\"1\" class=\"dataframe\">\n",
       "  <thead>\n",
       "    <tr style=\"text-align: right;\">\n",
       "      <th></th>\n",
       "      <th>baseMean</th>\n",
       "      <th>log2FoldChange</th>\n",
       "      <th>lfcSE</th>\n",
       "      <th>stat</th>\n",
       "      <th>pvalue</th>\n",
       "      <th>padj</th>\n",
       "    </tr>\n",
       "  </thead>\n",
       "  <tbody>\n",
       "    <tr>\n",
       "      <th>A1BG-AS1</th>\n",
       "      <td>29.745399</td>\n",
       "      <td>-0.165771</td>\n",
       "      <td>0.230461</td>\n",
       "      <td>-0.818715</td>\n",
       "      <td>0.412949</td>\n",
       "      <td>0.527916</td>\n",
       "    </tr>\n",
       "    <tr>\n",
       "      <th>A2ML1</th>\n",
       "      <td>29319.797526</td>\n",
       "      <td>-0.224643</td>\n",
       "      <td>0.584151</td>\n",
       "      <td>-3.244299</td>\n",
       "      <td>0.001177</td>\n",
       "      <td>0.004301</td>\n",
       "    </tr>\n",
       "    <tr>\n",
       "      <th>A4GALT</th>\n",
       "      <td>1271.315666</td>\n",
       "      <td>-0.103942</td>\n",
       "      <td>0.187939</td>\n",
       "      <td>-0.625653</td>\n",
       "      <td>0.531542</td>\n",
       "      <td>0.639031</td>\n",
       "    </tr>\n",
       "    <tr>\n",
       "      <th>A4GNT</th>\n",
       "      <td>455.611732</td>\n",
       "      <td>-1.815053</td>\n",
       "      <td>0.665089</td>\n",
       "      <td>-3.485436</td>\n",
       "      <td>0.000491</td>\n",
       "      <td>0.002039</td>\n",
       "    </tr>\n",
       "    <tr>\n",
       "      <th>AAAS</th>\n",
       "      <td>2091.957826</td>\n",
       "      <td>0.188806</td>\n",
       "      <td>0.104111</td>\n",
       "      <td>1.904175</td>\n",
       "      <td>0.056887</td>\n",
       "      <td>0.109230</td>\n",
       "    </tr>\n",
       "    <tr>\n",
       "      <th>...</th>\n",
       "      <td>...</td>\n",
       "      <td>...</td>\n",
       "      <td>...</td>\n",
       "      <td>...</td>\n",
       "      <td>...</td>\n",
       "      <td>...</td>\n",
       "    </tr>\n",
       "    <tr>\n",
       "      <th>ZXDC</th>\n",
       "      <td>1591.210284</td>\n",
       "      <td>0.083674</td>\n",
       "      <td>0.115131</td>\n",
       "      <td>0.772791</td>\n",
       "      <td>0.439646</td>\n",
       "      <td>0.554807</td>\n",
       "    </tr>\n",
       "    <tr>\n",
       "      <th>ZYG11A</th>\n",
       "      <td>42.787794</td>\n",
       "      <td>-0.200873</td>\n",
       "      <td>0.393102</td>\n",
       "      <td>-0.738468</td>\n",
       "      <td>0.460230</td>\n",
       "      <td>0.573745</td>\n",
       "    </tr>\n",
       "    <tr>\n",
       "      <th>ZYG11B</th>\n",
       "      <td>2510.156872</td>\n",
       "      <td>-0.676494</td>\n",
       "      <td>0.162652</td>\n",
       "      <td>-4.501000</td>\n",
       "      <td>0.000007</td>\n",
       "      <td>0.000051</td>\n",
       "    </tr>\n",
       "    <tr>\n",
       "      <th>ZYX</th>\n",
       "      <td>15186.039450</td>\n",
       "      <td>-0.060125</td>\n",
       "      <td>0.181660</td>\n",
       "      <td>0.208921</td>\n",
       "      <td>0.834510</td>\n",
       "      <td>0.883340</td>\n",
       "    </tr>\n",
       "    <tr>\n",
       "      <th>ZZEF1</th>\n",
       "      <td>5943.322785</td>\n",
       "      <td>-0.323732</td>\n",
       "      <td>0.167991</td>\n",
       "      <td>-1.809046</td>\n",
       "      <td>0.070444</td>\n",
       "      <td>0.130064</td>\n",
       "    </tr>\n",
       "  </tbody>\n",
       "</table>\n",
       "<p>16467 rows × 6 columns</p>\n",
       "</div>"
      ],
      "text/plain": [
       "              baseMean  log2FoldChange     lfcSE      stat    pvalue      padj\n",
       "A1BG-AS1     29.745399       -0.165771  0.230461 -0.818715  0.412949  0.527916\n",
       "A2ML1     29319.797526       -0.224643  0.584151 -3.244299  0.001177  0.004301\n",
       "A4GALT     1271.315666       -0.103942  0.187939 -0.625653  0.531542  0.639031\n",
       "A4GNT       455.611732       -1.815053  0.665089 -3.485436  0.000491  0.002039\n",
       "AAAS       2091.957826        0.188806  0.104111  1.904175  0.056887  0.109230\n",
       "...                ...             ...       ...       ...       ...       ...\n",
       "ZXDC       1591.210284        0.083674  0.115131  0.772791  0.439646  0.554807\n",
       "ZYG11A       42.787794       -0.200873  0.393102 -0.738468  0.460230  0.573745\n",
       "ZYG11B     2510.156872       -0.676494  0.162652 -4.501000  0.000007  0.000051\n",
       "ZYX       15186.039450       -0.060125  0.181660  0.208921  0.834510  0.883340\n",
       "ZZEF1      5943.322785       -0.323732  0.167991 -1.809046  0.070444  0.130064\n",
       "\n",
       "[16467 rows x 6 columns]"
      ]
     },
     "execution_count": 66,
     "metadata": {},
     "output_type": "execute_result"
    }
   ],
   "source": [
    "stat_res.results_df"
   ]
  },
  {
   "cell_type": "code",
   "execution_count": 72,
   "id": "ce8336df-84e0-49a4-9bba-51e36ada0980",
   "metadata": {},
   "outputs": [],
   "source": [
    "stat_res.results_df['padj'] = pd.to_numeric(stat_res.results_df['padj'], errors='coerce').fillna(1)"
   ]
  },
  {
   "cell_type": "code",
   "execution_count": 80,
   "id": "fad3d973-6d00-4d02-970b-5e63016c4886",
   "metadata": {},
   "outputs": [
    {
     "data": {
      "image/png": "[encoded data removed]",
      "text/plain": [
       "<Figure size 500x500 with 1 Axes>"
      ]
     },
     "metadata": {},
     "output_type": "display_data"
    }
   ],
   "source": [
    "visuz.GeneExpression.volcano(df=stat_res.results_df, lfc='log2FoldChange', pv='padj', show=True, plotlegend=True)"
   ]
  }
 ],
 "metadata": {
  "kernelspec": {
   "display_name": "Python 3 (ipykernel)",
   "language": "python",
   "name": "python3"
  },
  "language_info": {
   "codemirror_mode": {
    "name": "ipython",
    "version": 3
   },
   "file_extension": ".py",
   "mimetype": "text/x-python",
   "name": "python",
   "nbconvert_exporter": "python",
   "pygments_lexer": "ipython3",
   "version": "3.11.7"
  }
 },
 "nbformat": 4,
 "nbformat_minor": 5
}
