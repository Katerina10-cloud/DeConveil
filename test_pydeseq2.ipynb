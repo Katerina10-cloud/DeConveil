{
 "cells": [
  {
   "cell_type": "code",
   "execution_count": 3,
   "id": "d58112b2-8294-491d-bad6-feb52413f4e7",
   "metadata": {},
   "outputs": [],
   "source": [
    "import os\n",
    "import pickle as pkl\n",
    "import pandas as pd\n",
    "import numpy as np\n",
    "\n",
    "import pydeseq2\n",
    "from pydeseq2.dds import DeseqDataSet\n",
    "from pydeseq2.default_inference import DefaultInference\n",
    "from pydeseq2.ds import DeseqStats"
   ]
  },
  {
   "cell_type": "code",
   "execution_count": 103,
   "id": "e4f9fbfc-0f3e-4930-88c9-1141d4b281d5",
   "metadata": {},
   "outputs": [],
   "source": [
    "# Loading the data from package\n",
    "#DATA_PATH = \"/Users/katsiarynadavydzenka/Documents/PhD_AI/CN-aware-DGE/Python/datasets/\"\n",
    "#counts_df = pd.read_csv(os.path.join(DATA_PATH, \"rna_counts_cnv_v2.csv\"), index_col=0)\n",
    "#counts_df = counts_df.T\n",
    "#metadata = pd.read_csv(os.path.join(DATA_PATH, \"metadata_v2.csv\"), index_col=0)"
   ]
  },
  {
   "cell_type": "code",
   "execution_count": 51,
   "id": "4b6f7ee0-299c-4d94-9e56-341b2fddc562",
   "metadata": {},
   "outputs": [],
   "source": [
    "# Test real data\n",
    "DATA_PATH = \"/Users/katsiarynadavydzenka/Documents/PhD_AI/TCGA/STAD/test\"\n",
    "counts_df = pd.read_csv(os.path.join(DATA_PATH, \"rna.csv\"), index_col=0)\n",
    "counts_df = counts_df.T\n",
    "metadata = pd.read_csv(os.path.join(DATA_PATH, \"metadata.csv\"), index_col=0)"
   ]
  },
  {
   "cell_type": "code",
   "execution_count": 53,
   "id": "48de081f-c27d-48cc-af7e-9f5648355e5b",
   "metadata": {},
   "outputs": [
    {
     "data": {
      "text/plain": [
       "(64, 16467)"
      ]
     },
     "execution_count": 53,
     "metadata": {},
     "output_type": "execute_result"
    }
   ],
   "source": [
    "#Data filtering\n",
    "#genes_to_keep = counts_df.columns[counts_df.sum(axis=0) >= 10]\n",
    "#counts_df = counts_df[genes_to_keep]\n",
    "counts_df.shape"
   ]
  },
  {
   "cell_type": "code",
   "execution_count": 55,
   "id": "3d757af8-734e-485d-ad94-c59c541306a7",
   "metadata": {},
   "outputs": [
    {
     "name": "stderr",
     "output_type": "stream",
     "text": [
      "Fitting size factors...\n",
      "... done in 0.04 seconds.\n",
      "\n",
      "Fitting dispersions...\n",
      "... done in 1.75 seconds.\n",
      "\n",
      "Fitting dispersion trend curve...\n",
      "... done in 0.26 seconds.\n",
      "\n",
      "Fitting MAP dispersions...\n",
      "... done in 2.24 seconds.\n",
      "\n",
      "Fitting LFCs...\n",
      "... done in 1.01 seconds.\n",
      "\n",
      "Calculating cook's distance...\n",
      "... done in 0.07 seconds.\n",
      "\n",
      "Replacing 556 outlier genes.\n",
      "\n",
      "Fitting dispersions...\n",
      "... done in 0.08 seconds.\n",
      "\n",
      "Fitting MAP dispersions...\n",
      "... done in 0.08 seconds.\n",
      "\n",
      "Fitting LFCs...\n",
      "... done in 0.07 seconds.\n",
      "\n",
      "Running Wald tests...\n",
      "... done in 0.56 seconds.\n",
      "\n",
      "Fitting MAP LFCs...\n"
     ]
    },
    {
     "name": "stdout",
     "output_type": "stream",
     "text": [
      "Log2 fold change & Wald test p-value: condition B vs A\n",
      "              baseMean  log2FoldChange     lfcSE      stat    pvalue      padj\n",
      "A1BG-AS1     29.745399       -0.067171  0.239357 -0.280632  0.778993  0.842817\n",
      "A2ML1     29319.797526       -3.102460  1.044208 -2.971114  0.002967  0.008881\n",
      "A4GALT     1271.315666       -0.288784  0.193348 -1.493597  0.135281  0.215238\n",
      "A4GNT       455.611732       -2.230452  0.631452 -3.532261  0.000412  0.001633\n",
      "AAAS       2091.957826        0.246399  0.104723  2.352868  0.018629  0.041883\n",
      "...                ...             ...       ...       ...       ...       ...\n",
      "ZXDC       1591.210284        0.183447  0.116251  1.578019  0.114561  0.187951\n",
      "ZYG11A       42.787794       -0.115264  0.445557 -0.258696  0.795870  0.855010\n",
      "ZYG11B     2510.156872       -0.697143  0.162880 -4.280097  0.000019  0.000113\n",
      "ZYX       15186.039450       -0.111036  0.189049 -0.587343  0.556974  0.659596\n",
      "ZZEF1      5943.322785       -0.552503  0.169938 -3.251203  0.001149  0.003947\n",
      "\n",
      "[16467 rows x 6 columns]\n",
      "Shrunk log2 fold change & Wald test p-value: condition B vs A\n",
      "              baseMean  log2FoldChange     lfcSE      stat    pvalue      padj\n",
      "A1BG-AS1     29.745399       -0.056891  0.230193 -0.280632  0.778993  0.842817\n",
      "A2ML1     29319.797526       -0.435021  0.772831 -2.971114  0.002967  0.008881\n",
      "A4GALT     1271.315666       -0.260028  0.189516 -1.493597  0.135281  0.215238\n",
      "A4GNT       455.611732       -1.856749  0.661577 -3.532261  0.000412  0.001633\n",
      "AAAS       2091.957826        0.232250  0.104167  2.352868  0.018629  0.041883\n",
      "...                ...             ...       ...       ...       ...       ...\n",
      "ZXDC       1591.210284        0.176666  0.115263  1.578019  0.114561  0.187951\n",
      "ZYG11A       42.787794       -0.070358  0.390483 -0.258696  0.795870  0.855010\n",
      "ZYG11B     2510.156872       -0.639373  0.162476 -4.280097  0.000019  0.000113\n",
      "ZYX       15186.039450       -0.213494  0.182177 -0.587343  0.556974  0.659596\n",
      "ZZEF1      5943.322785       -0.564513  0.168914 -3.251203  0.001149  0.003947\n",
      "\n",
      "[16467 rows x 6 columns]\n"
     ]
    },
    {
     "name": "stderr",
     "output_type": "stream",
     "text": [
      "... done in 2.03 seconds.\n",
      "\n"
     ]
    }
   ],
   "source": [
    "inference = DefaultInference(n_cpus=8)\n",
    "\n",
    "dds = DeseqDataSet(\n",
    "    counts=counts_df,\n",
    "    metadata=metadata,\n",
    "    design_factors=\"condition\",\n",
    "    refit_cooks=True,\n",
    "    inference=inference,\n",
    ")\n",
    "\n",
    "dds.fit_size_factors()\n",
    "dds.fit_genewise_dispersions()\n",
    "dds.fit_dispersion_trend()\n",
    "dds.fit_dispersion_prior()\n",
    "dds.fit_MAP_dispersions()\n",
    "dds.fit_LFC()\n",
    "\n",
    "dds.calculate_cooks()\n",
    "if dds.refit_cooks:\n",
    "    # Replace outlier counts\n",
    "    dds.refit()\n",
    "\n",
    "# Statistical analysis\n",
    "stat_res = DeseqStats(dds, \n",
    "                      alpha=0.05, \n",
    "                      cooks_filter=True, \n",
    "                      independent_filter=True)\n",
    "\n",
    "stat_res.run_wald_test()\n",
    "\n",
    "if stat_res.cooks_filter:\n",
    "    stat_res._cooks_filtering()\n",
    "stat_res.p_values\n",
    "\n",
    "# p-value adjustment\n",
    "\n",
    "if stat_res.independent_filter:\n",
    "    stat_res._independent_filtering()\n",
    "else:\n",
    "    stat_res._p_value_adjustment()\n",
    "\n",
    "stat_res.padj\n",
    "\n",
    "stat_res.summary()\n",
    "\n",
    "stat_res.lfc_shrink(coeff=\"condition_B_vs_A\")\n",
    "\n",
    "#Save results\n",
    "OUTPUT_PATH = \"/Users/katsiarynadavydzenka/Documents/PhD_AI/CN-aware-DGE/results/STAD/\"\n",
    "os.makedirs(OUTPUT_PATH, exist_ok=True)  # Create path if it doesn't exist\n",
    "stat_res.results_df.to_csv(os.path.join(OUTPUT_PATH, \"res_CNnaive.csv\"))"
   ]
  },
  {
   "cell_type": "code",
   "execution_count": 57,
   "id": "30255fd8-1f9f-4a26-9939-f66ded4e7610",
   "metadata": {},
   "outputs": [],
   "source": [
    "#dds.obsm[\"size_factors\"]\n",
    "#dds.varm[\"genewise_dispersions\"]\n",
    "#dds.varm[\"fitted_dispersions\"]\n",
    "#print(\n",
    "    #f\"logres_prior={dds.uns['_squared_logres']}, sigma_prior={dds.uns['prior_disp_var']}\"\n",
    "#)\n",
    "#dds.varm[\"MAP_dispersions\"]\n",
    "#dds.varm[\"dispersions\"]\n",
    "#dds.varm[\"LFC\"]"
   ]
  },
  {
   "cell_type": "code",
   "execution_count": 59,
   "id": "1b350b82-69ce-4b91-a7e3-abe93bca73a7",
   "metadata": {},
   "outputs": [],
   "source": [
    "#stat_res.plot_MA(s=10)"
   ]
  },
  {
   "cell_type": "markdown",
   "id": "16bf035d-16b1-453a-9fc4-1d71140353bf",
   "metadata": {},
   "source": [
    "Volcano plot"
   ]
  },
  {
   "cell_type": "code",
   "execution_count": 61,
   "id": "2522ec7e-a05a-4fde-b6c9-21867b5e5623",
   "metadata": {},
   "outputs": [],
   "source": [
    "from bioinfokit import analys, visuz"
   ]
  },
  {
   "cell_type": "code",
   "execution_count": 63,
   "id": "5d38023e-bd18-4ae9-be0c-7780e91861ec",
   "metadata": {},
   "outputs": [
    {
     "data": {
      "text/html": [
       "<div>\n",
       "<style scoped>\n",
       "    .dataframe tbody tr th:only-of-type {\n",
       "        vertical-align: middle;\n",
       "    }\n",
       "\n",
       "    .dataframe tbody tr th {\n",
       "        vertical-align: top;\n",
       "    }\n",
       "\n",
       "    .dataframe thead th {\n",
       "        text-align: right;\n",
       "    }\n",
       "</style>\n",
       "<table border=\"1\" class=\"dataframe\">\n",
       "  <thead>\n",
       "    <tr style=\"text-align: right;\">\n",
       "      <th></th>\n",
       "      <th>baseMean</th>\n",
       "      <th>log2FoldChange</th>\n",
       "      <th>lfcSE</th>\n",
       "      <th>stat</th>\n",
       "      <th>pvalue</th>\n",
       "      <th>padj</th>\n",
       "    </tr>\n",
       "  </thead>\n",
       "  <tbody>\n",
       "    <tr>\n",
       "      <th>A1BG-AS1</th>\n",
       "      <td>29.745399</td>\n",
       "      <td>-0.056891</td>\n",
       "      <td>0.230193</td>\n",
       "      <td>-0.280632</td>\n",
       "      <td>0.778993</td>\n",
       "      <td>0.842817</td>\n",
       "    </tr>\n",
       "    <tr>\n",
       "      <th>A2ML1</th>\n",
       "      <td>29319.797526</td>\n",
       "      <td>-0.435021</td>\n",
       "      <td>0.772831</td>\n",
       "      <td>-2.971114</td>\n",
       "      <td>0.002967</td>\n",
       "      <td>0.008881</td>\n",
       "    </tr>\n",
       "    <tr>\n",
       "      <th>A4GALT</th>\n",
       "      <td>1271.315666</td>\n",
       "      <td>-0.260028</td>\n",
       "      <td>0.189516</td>\n",
       "      <td>-1.493597</td>\n",
       "      <td>0.135281</td>\n",
       "      <td>0.215238</td>\n",
       "    </tr>\n",
       "    <tr>\n",
       "      <th>A4GNT</th>\n",
       "      <td>455.611732</td>\n",
       "      <td>-1.856749</td>\n",
       "      <td>0.661577</td>\n",
       "      <td>-3.532261</td>\n",
       "      <td>0.000412</td>\n",
       "      <td>0.001633</td>\n",
       "    </tr>\n",
       "    <tr>\n",
       "      <th>AAAS</th>\n",
       "      <td>2091.957826</td>\n",
       "      <td>0.232250</td>\n",
       "      <td>0.104167</td>\n",
       "      <td>2.352868</td>\n",
       "      <td>0.018629</td>\n",
       "      <td>0.041883</td>\n",
       "    </tr>\n",
       "    <tr>\n",
       "      <th>...</th>\n",
       "      <td>...</td>\n",
       "      <td>...</td>\n",
       "      <td>...</td>\n",
       "      <td>...</td>\n",
       "      <td>...</td>\n",
       "      <td>...</td>\n",
       "    </tr>\n",
       "    <tr>\n",
       "      <th>ZXDC</th>\n",
       "      <td>1591.210284</td>\n",
       "      <td>0.176666</td>\n",
       "      <td>0.115263</td>\n",
       "      <td>1.578019</td>\n",
       "      <td>0.114561</td>\n",
       "      <td>0.187951</td>\n",
       "    </tr>\n",
       "    <tr>\n",
       "      <th>ZYG11A</th>\n",
       "      <td>42.787794</td>\n",
       "      <td>-0.070358</td>\n",
       "      <td>0.390483</td>\n",
       "      <td>-0.258696</td>\n",
       "      <td>0.795870</td>\n",
       "      <td>0.855010</td>\n",
       "    </tr>\n",
       "    <tr>\n",
       "      <th>ZYG11B</th>\n",
       "      <td>2510.156872</td>\n",
       "      <td>-0.639373</td>\n",
       "      <td>0.162476</td>\n",
       "      <td>-4.280097</td>\n",
       "      <td>0.000019</td>\n",
       "      <td>0.000113</td>\n",
       "    </tr>\n",
       "    <tr>\n",
       "      <th>ZYX</th>\n",
       "      <td>15186.039450</td>\n",
       "      <td>-0.213494</td>\n",
       "      <td>0.182177</td>\n",
       "      <td>-0.587343</td>\n",
       "      <td>0.556974</td>\n",
       "      <td>0.659596</td>\n",
       "    </tr>\n",
       "    <tr>\n",
       "      <th>ZZEF1</th>\n",
       "      <td>5943.322785</td>\n",
       "      <td>-0.564513</td>\n",
       "      <td>0.168914</td>\n",
       "      <td>-3.251203</td>\n",
       "      <td>0.001149</td>\n",
       "      <td>0.003947</td>\n",
       "    </tr>\n",
       "  </tbody>\n",
       "</table>\n",
       "<p>16467 rows × 6 columns</p>\n",
       "</div>"
      ],
      "text/plain": [
       "              baseMean  log2FoldChange     lfcSE      stat    pvalue      padj\n",
       "A1BG-AS1     29.745399       -0.056891  0.230193 -0.280632  0.778993  0.842817\n",
       "A2ML1     29319.797526       -0.435021  0.772831 -2.971114  0.002967  0.008881\n",
       "A4GALT     1271.315666       -0.260028  0.189516 -1.493597  0.135281  0.215238\n",
       "A4GNT       455.611732       -1.856749  0.661577 -3.532261  0.000412  0.001633\n",
       "AAAS       2091.957826        0.232250  0.104167  2.352868  0.018629  0.041883\n",
       "...                ...             ...       ...       ...       ...       ...\n",
       "ZXDC       1591.210284        0.176666  0.115263  1.578019  0.114561  0.187951\n",
       "ZYG11A       42.787794       -0.070358  0.390483 -0.258696  0.795870  0.855010\n",
       "ZYG11B     2510.156872       -0.639373  0.162476 -4.280097  0.000019  0.000113\n",
       "ZYX       15186.039450       -0.213494  0.182177 -0.587343  0.556974  0.659596\n",
       "ZZEF1      5943.322785       -0.564513  0.168914 -3.251203  0.001149  0.003947\n",
       "\n",
       "[16467 rows x 6 columns]"
      ]
     },
     "execution_count": 63,
     "metadata": {},
     "output_type": "execute_result"
    }
   ],
   "source": [
    "stat_res.results_df"
   ]
  },
  {
   "cell_type": "code",
   "execution_count": 65,
   "id": "bd18a705-9921-43b9-a8b1-31209000470c",
   "metadata": {},
   "outputs": [],
   "source": [
    "stat_res.results_df['padj'] = pd.to_numeric(stat_res.results_df['padj'], errors='coerce').fillna(1)"
   ]
  },
  {
   "cell_type": "code",
   "execution_count": 69,
   "id": "eadc5148-abb8-4eb7-9634-2178fdda7c4d",
   "metadata": {},
   "outputs": [
    {
     "data": {
      "image/png": "[encoded data removed]",
      "text/plain": [
       "<Figure size 500x500 with 1 Axes>"
      ]
     },
     "metadata": {},
     "output_type": "display_data"
    }
   ],
   "source": [
    "visuz.GeneExpression.volcano(df=stat_res.results_df, lfc='log2FoldChange', pv='padj', show=True, plotlegend=True)"
   ]
  }
 ],
 "metadata": {
  "kernelspec": {
   "display_name": "Python 3 (ipykernel)",
   "language": "python",
   "name": "python3"
  },
  "language_info": {
   "codemirror_mode": {
    "name": "ipython",
    "version": 3
   },
   "file_extension": ".py",
   "mimetype": "text/x-python",
   "name": "python",
   "nbconvert_exporter": "python",
   "pygments_lexer": "ipython3",
   "version": "3.11.7"
  }
 },
 "nbformat": 4,
 "nbformat_minor": 5
}
